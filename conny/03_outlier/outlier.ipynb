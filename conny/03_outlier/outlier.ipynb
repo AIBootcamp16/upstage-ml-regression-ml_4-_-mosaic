{
 "cells": [
  {
   "cell_type": "code",
   "id": "initial_id",
   "metadata": {
    "collapsed": true,
    "ExecuteTime": {
     "end_time": "2025-09-11T08:56:13.964116Z",
     "start_time": "2025-09-11T08:56:13.961852Z"
    }
   },
   "source": [
    "# visualization\n",
    "import matplotlib.pyplot as plt\n",
    "import matplotlib.font_manager as fm\n",
    "import pandas as pd\n",
    "import numpy as np\n",
    "import re\n",
    "from typing import Callable\n",
    "import seaborn as sns"
   ],
   "outputs": [],
   "execution_count": 19
  },
  {
   "metadata": {
    "ExecuteTime": {
     "end_time": "2025-09-11T08:56:13.990538Z",
     "start_time": "2025-09-11T08:56:13.988140Z"
    }
   },
   "cell_type": "code",
   "source": [
    "# fe = fm.FontEntry(\n",
    "#     fname=r'/usr/share/fonts/truetype/nanum/NanumGothic.ttf',  # ttf 파일이 저장되어 있는 경로\n",
    "#     name='NanumBarunGothic')  # 이 폰트의 원하는 이름 설정\n",
    "# fm.fontManager.ttflist.insert(0, fe)  # Matplotlib에 폰트 추가\n",
    "# plt.rcParams.update({'font.size': 10, 'font.family': 'NanumBarunGothic'})  # 폰트 설정\n",
    "# plt.rc('font', family='NanumBarunGothic')\n",
    "\n",
    "# mac os\n",
    "fe = fm.FontEntry(\n",
    "    fname=r'/System/Library/Fonts/Supplemental/AppleGothic.ttf',  # ttf 파일이 저장되어 있는 경로\n",
    "    name='AppleGothic')  # 이 폰트의 원하는 이름 설정\n",
    "fm.fontManager.ttflist.insert(0, fe)  # Matplotlib에 폰트 추가\n",
    "plt.rcParams.update({'font.size': 10, 'font.family': 'AppleGothic'})  # 폰트 설정\n",
    "plt.rc('font', family='AppleGothic')"
   ],
   "id": "6533ced7235587d6",
   "outputs": [],
   "execution_count": 20
  },
  {
   "metadata": {
    "ExecuteTime": {
     "end_time": "2025-09-11T08:56:14.410246Z",
     "start_time": "2025-09-11T08:56:13.994908Z"
    }
   },
   "cell_type": "code",
   "source": "house = pd.read_csv('../02_data_process/house_select.csv')",
   "id": "9b1326bfbc99ada4",
   "outputs": [
    {
     "name": "stderr",
     "output_type": "stream",
     "text": [
      "/var/folders/h2/3s0kf71j1wd60qyytwysjfl40000gn/T/ipykernel_7135/658595238.py:1: DtypeWarning: Columns (10,11) have mixed types. Specify dtype option on import or set low_memory=False.\n",
      "  house = pd.read_csv('../02_data_process/house_select.csv')\n"
     ]
    }
   ],
   "execution_count": 21
  },
  {
   "metadata": {
    "ExecuteTime": {
     "end_time": "2025-09-11T08:56:14.425103Z",
     "start_time": "2025-09-11T08:56:14.422535Z"
    }
   },
   "cell_type": "code",
   "source": "house['계약연도'].unique()",
   "id": "acec21133afa39d8",
   "outputs": [
    {
     "data": {
      "text/plain": [
       "array([2017, 2018, 2011, 2012, 2023])"
      ]
     },
     "execution_count": 22,
     "metadata": {},
     "output_type": "execute_result"
    }
   ],
   "execution_count": 22
  },
  {
   "metadata": {
    "ExecuteTime": {
     "end_time": "2025-09-11T08:56:14.460865Z",
     "start_time": "2025-09-11T08:56:14.436673Z"
    }
   },
   "cell_type": "code",
   "source": "house = house[(house['is_test'] == 1) | ((house['is_test'] == 0) & (house['계약연도'].isin([2018, 2023])))]",
   "id": "9aac8b1c066677fe",
   "outputs": [],
   "execution_count": 23
  },
  {
   "metadata": {
    "ExecuteTime": {
     "end_time": "2025-09-11T08:56:14.470864Z",
     "start_time": "2025-09-11T08:56:14.464259Z"
    }
   },
   "cell_type": "code",
   "source": "house[(house['is_test']==1)].shape",
   "id": "1508b8d38282dc3",
   "outputs": [
    {
     "data": {
      "text/plain": [
       "(9272, 68)"
      ]
     },
     "execution_count": 24,
     "metadata": {},
     "output_type": "execute_result"
    }
   ],
   "execution_count": 24
  },
  {
   "metadata": {
    "ExecuteTime": {
     "end_time": "2025-09-11T08:56:14.484625Z",
     "start_time": "2025-09-11T08:56:14.481822Z"
    }
   },
   "cell_type": "code",
   "source": [
    "# 먼저, 연속형 변수와 범주형 변수를 위 info에 따라 분리해주겠습니다.\n",
    "continuous_columns = []\n",
    "categorical_columns = []\n",
    "\n",
    "for column in house.columns:\n",
    "    if pd.api.types.is_numeric_dtype(house[column]):\n",
    "        continuous_columns.append(column)\n",
    "    else:\n",
    "        categorical_columns.append(column)\n",
    "\n",
    "print(\"연속형 변수:\", continuous_columns)\n",
    "print(\"범주형 변수:\", categorical_columns)"
   ],
   "id": "1a216d5816acc3c0",
   "outputs": [
    {
     "name": "stdout",
     "output_type": "stream",
     "text": [
      "연속형 변수: ['본번', '부번', '전용면적', '계약년월', '계약일', '층', '건축년도', 'k_전체동수', 'k_전체세대수', 'k_연면적', 'k_주거전용면적', 'k_관리비부과면적', 'k_전용면적별세대현황_60㎡이하_', 'k_전용면적별세대현황_60㎡~85㎡이하_', 'k_85㎡~135㎡이하', 'target', 'is_test', '경도', '위도', '1_bus', '3_bus', '5_bus', '10_bus', '1_school', '3_school', '5_school', '10_school', 'bus_access_score', 'sub_access_score', 'school_access_score', '1_sub', '3_sub', '5_sub', '10_sub', '계약연도', '계약월', '아파트_최고층', '층_최고층대비비율', '구_해당달_거래수', '동_해당달_거래수', '구_직전달까지누적거래수', '동_직전달까지누적거래수', '동대구_해당달_비율', '동대구_직전누적_비율', '연식', '강남여부', '브랜드']\n",
      "범주형 변수: ['아파트명', '도로명', 'k_단지분류_아파트_주상복합등등_', 'k_전화번호', 'k_팩스번호', 'k_세대타입_분양형태_', 'k_관리방식', 'k_복도유형', 'k_난방방식', 'k_건설사_시공사_', 'k_시행사', 'k_사용검사일-사용승인일', 'k_수정일자', '경비비관리형태', '세대전기계약방법', '청소비관리형태', '주소', '구', '동', '층구간_상대', '연식_bin']\n"
     ]
    }
   ],
   "execution_count": 25
  },
  {
   "metadata": {
    "ExecuteTime": {
     "end_time": "2025-09-11T08:56:14.582507Z",
     "start_time": "2025-09-11T08:56:14.494091Z"
    }
   },
   "cell_type": "code",
   "source": [
    "# 범주형 변수에 대한 보간\n",
    "house[categorical_columns] = house[categorical_columns].fillna('NULL')"
   ],
   "id": "c31459a5965b9dab",
   "outputs": [],
   "execution_count": 26
  },
  {
   "metadata": {
    "ExecuteTime": {
     "end_time": "2025-09-11T08:56:14.623393Z",
     "start_time": "2025-09-11T08:56:14.587641Z"
    }
   },
   "cell_type": "code",
   "source": "house.isnull().sum()",
   "id": "39c72f237fc79252",
   "outputs": [
    {
     "data": {
      "text/plain": [
       "본번             15\n",
       "부번             15\n",
       "아파트명            0\n",
       "전용면적            0\n",
       "계약년월            0\n",
       "               ..\n",
       "동대구_직전누적_비율     0\n",
       "연식              0\n",
       "연식_bin          0\n",
       "강남여부            0\n",
       "브랜드             0\n",
       "Length: 68, dtype: int64"
      ]
     },
     "execution_count": 27,
     "metadata": {},
     "output_type": "execute_result"
    }
   ],
   "execution_count": 27
  },
  {
   "metadata": {
    "ExecuteTime": {
     "end_time": "2025-09-11T08:56:14.753623Z",
     "start_time": "2025-09-11T08:56:14.648455Z"
    }
   },
   "cell_type": "code",
   "source": [
    "fig = plt.figure(figsize=(7, 3))\n",
    "sns.boxplot(data = house, x = 'target', color='lightgreen')\n",
    "plt.title('매매가격 분포')\n",
    "plt.xlabel('Area')\n",
    "plt.show()\n"
   ],
   "id": "f8ef02d45f094d8d",
   "outputs": [
    {
     "data": {
      "text/plain": [
       "<Figure size 700x300 with 1 Axes>"
      ],
      "image/png": "[encoded data removed]"
     },
     "metadata": {},
     "output_type": "display_data",
     "jetTransient": {
      "display_id": null
     }
    }
   ],
   "execution_count": 28
  },
  {
   "metadata": {
    "ExecuteTime": {
     "end_time": "2025-09-11T08:56:14.797966Z",
     "start_time": "2025-09-11T08:56:14.781726Z"
    }
   },
   "cell_type": "code",
   "source": [
    "# IQR 기준으로 '전용면적' 이상치 값 확인\n",
    "col = 'target'\n",
    "s = house[col].dropna()\n",
    "\n",
    "q1 = s.quantile(0.25)\n",
    "q3 = s.quantile(0.75)\n",
    "iqr = q3 - q1\n",
    "lower = q1 - 1.5 * iqr\n",
    "upper = q3 + 1.5 * iqr\n",
    "\n",
    "mask_outlier = (house[col] < lower) | (house[col] > upper)\n",
    "out_vals = house.loc[mask_outlier, col]\n",
    "\n",
    "print(f\"[IQR 기준 임계값] lower={lower:.3f}, upper={upper:.3f}\")\n",
    "print(f\"[이상치 개수] {mask_outlier.sum()} / {len(house)} (비율 {mask_outlier.mean():.2%})\")\n",
    "\n",
    "# 이상치 값들(중복 제거) 정렬\n",
    "uniq_vals = np.sort(out_vals.unique())\n",
    "\n",
    "# 너무 많을 수 있으니 하위/상위 일부만 미리보기\n",
    "n_show = 20\n",
    "print(\"\\n[하위 쪽 이상치 값 미리보기]\")\n",
    "print(uniq_vals[:n_show])\n",
    "\n",
    "print(\"\\n[상위 쪽 이상치 값 미리보기]\")\n",
    "print(uniq_vals[-n_show:])\n",
    "\n",
    "# 빈도 상위 값 확인(어떤 값들이 자주 등장하는지)\n",
    "print(\"\\n[이상치 값 상위 빈도]\")\n",
    "print(out_vals.value_counts().head(15))\n",
    "\n",
    "# 이상치 행 몇 개 확인(필요 시 다른 컬럼도 함께 보세요)\n",
    "print(\"\\n[이상치 행 미리보기]\")\n",
    "display(house.loc[mask_outlier].sort_values(col).head(10))"
   ],
   "id": "6e3c6b7e074b2b3c",
   "outputs": [
    {
     "name": "stdout",
     "output_type": "stream",
     "text": [
      "[IQR 기준 임계값] lower=-20500.000, upper=136300.000\n",
      "[이상치 개수] 5530 / 83211 (비율 6.65%)\n",
      "\n",
      "[하위 쪽 이상치 값 미리보기]\n",
      "[136500. 136800. 136900. 137000. 137250. 137281. 137300. 137400. 137500.\n",
      " 137650. 137700. 137800. 138000. 138100. 138300. 138500. 138880. 139000.\n",
      " 139200. 139300.]\n",
      "\n",
      "[상위 쪽 이상치 값 미리보기]\n",
      "[504000. 525000. 550000. 575000. 585000. 590000. 595000. 600000. 610000.\n",
      " 615000. 620000. 623000. 630000. 634000. 635000. 640000. 650000. 670000.\n",
      " 730000. 740000.]\n",
      "\n",
      "[이상치 값 상위 빈도]\n",
      "target\n",
      "150000.0    238\n",
      "140000.0    234\n",
      "160000.0    198\n",
      "145000.0    151\n",
      "170000.0    141\n",
      "155000.0    122\n",
      "165000.0    115\n",
      "200000.0     95\n",
      "175000.0     91\n",
      "180000.0     91\n",
      "190000.0     78\n",
      "210000.0     77\n",
      "138000.0     72\n",
      "185000.0     69\n",
      "220000.0     63\n",
      "Name: count, dtype: int64\n",
      "\n",
      "[이상치 행 미리보기]\n"
     ]
    },
    {
     "data": {
      "text/plain": [
       "           본번   부번      아파트명      전용면적    계약년월  계약일   층  건축년도        도로명  \\\n",
       "74144    17.0  0.0      파크리오   84.9000  201808   11  17  2008   올림픽로 435   \n",
       "77389   902.0  0.0   목동신시가지2   95.7600  201801   29   2  1986    목동서로 70   \n",
       "63985  1066.0  0.0       텐즈힐  148.8000  201802    8  15  2015     무학로 33   \n",
       "623     527.0  0.0      도곡렉슬   59.9772  201808   13  17  2006    선릉로 221   \n",
       "78311   961.0  0.0    하이페리온2  136.0810  201801    9  12  2006    오목로 300   \n",
       "75831    35.0  0.0      트리지움   84.9700  201801    5  17  2007     잠실로 62   \n",
       "74046    17.0  0.0      파크리오   84.7900  201801   20  18  2008   올림픽로 435   \n",
       "71543   150.0  0.0  올림픽훼밀리타운   84.7510  201809    8   2  1988     중대로 24   \n",
       "63011   377.0  0.0     서울숲더샵  114.4000  201809   14  38  2014   왕십리로 241   \n",
       "2563    463.0  1.0     우성사원5   78.9900  201802    7   8  1986  언주로29길 34   \n",
       "\n",
       "      k_단지분류_아파트_주상복합등등_  ... 구_해당달_거래수 동_해당달_거래수 구_직전달까지누적거래수 동_직전달까지누적거래수  \\\n",
       "74144               NULL  ...       941       118         4636           58   \n",
       "77389               NULL  ...       538       186          544           16   \n",
       "63985               NULL  ...       345        51         1493            1   \n",
       "623                  아파트  ...       725       140         2038           74   \n",
       "78311               NULL  ...       538       186          544           16   \n",
       "75831               NULL  ...       988       180          438           30   \n",
       "74046               NULL  ...       988       111          438           42   \n",
       "71543                아파트  ...       537        71         4098          166   \n",
       "63011               주상복합  ...       294        66         3588          934   \n",
       "2563                NULL  ...       354        65         4582          131   \n",
       "\n",
       "      동대구_해당달_비율 동대구_직전누적_비율  연식    연식_bin 강남여부    브랜드  \n",
       "74144   0.125399    0.012511  10   준신축_10년    1  False  \n",
       "77389   0.345725    0.029412  32  노후_20년초과    0  False  \n",
       "63985   0.147826    0.000670   3     신축_5년    0  False  \n",
       "623     0.193103    0.036310  12    중고_20년    1   True  \n",
       "78311   0.345725    0.029412  12    중고_20년    0  False  \n",
       "75831   0.182186    0.068493  11    중고_20년    1  False  \n",
       "74046   0.112348    0.095890  10   준신축_10년    1  False  \n",
       "71543   0.132216    0.040508  30  노후_20년초과    1   True  \n",
       "63011   0.224490    0.260312   4     신축_5년    0   True  \n",
       "2563    0.183616    0.028590  32  노후_20년초과    1  False  \n",
       "\n",
       "[10 rows x 68 columns]"
      ],
      "text/html": [
       "<div>\n",
       "<style scoped>\n",
       "    .dataframe tbody tr th:only-of-type {\n",
       "        vertical-align: middle;\n",
       "    }\n",
       "\n",
       "    .dataframe tbody tr th {\n",
       "        vertical-align: top;\n",
       "    }\n",
       "\n",
       "    .dataframe thead th {\n",
       "        text-align: right;\n",
       "    }\n",
       "</style>\n",
       "<table border=\"1\" class=\"dataframe\">\n",
       "  <thead>\n",
       "    <tr style=\"text-align: right;\">\n",
       "      <th></th>\n",
       "      <th>본번</th>\n",
       "      <th>부번</th>\n",
       "      <th>아파트명</th>\n",
       "      <th>전용면적</th>\n",
       "      <th>계약년월</th>\n",
       "      <th>계약일</th>\n",
       "      <th>층</th>\n",
       "      <th>건축년도</th>\n",
       "      <th>도로명</th>\n",
       "      <th>k_단지분류_아파트_주상복합등등_</th>\n",
       "      <th>...</th>\n",
       "      <th>구_해당달_거래수</th>\n",
       "      <th>동_해당달_거래수</th>\n",
       "      <th>구_직전달까지누적거래수</th>\n",
       "      <th>동_직전달까지누적거래수</th>\n",
       "      <th>동대구_해당달_비율</th>\n",
       "      <th>동대구_직전누적_비율</th>\n",
       "      <th>연식</th>\n",
       "      <th>연식_bin</th>\n",
       "      <th>강남여부</th>\n",
       "      <th>브랜드</th>\n",
       "    </tr>\n",
       "  </thead>\n",
       "  <tbody>\n",
       "    <tr>\n",
       "      <th>74144</th>\n",
       "      <td>17.0</td>\n",
       "      <td>0.0</td>\n",
       "      <td>파크리오</td>\n",
       "      <td>84.9000</td>\n",
       "      <td>201808</td>\n",
       "      <td>11</td>\n",
       "      <td>17</td>\n",
       "      <td>2008</td>\n",
       "      <td>올림픽로 435</td>\n",
       "      <td>NULL</td>\n",
       "      <td>...</td>\n",
       "      <td>941</td>\n",
       "      <td>118</td>\n",
       "      <td>4636</td>\n",
       "      <td>58</td>\n",
       "      <td>0.125399</td>\n",
       "      <td>0.012511</td>\n",
       "      <td>10</td>\n",
       "      <td>준신축_10년</td>\n",
       "      <td>1</td>\n",
       "      <td>False</td>\n",
       "    </tr>\n",
       "    <tr>\n",
       "      <th>77389</th>\n",
       "      <td>902.0</td>\n",
       "      <td>0.0</td>\n",
       "      <td>목동신시가지2</td>\n",
       "      <td>95.7600</td>\n",
       "      <td>201801</td>\n",
       "      <td>29</td>\n",
       "      <td>2</td>\n",
       "      <td>1986</td>\n",
       "      <td>목동서로 70</td>\n",
       "      <td>NULL</td>\n",
       "      <td>...</td>\n",
       "      <td>538</td>\n",
       "      <td>186</td>\n",
       "      <td>544</td>\n",
       "      <td>16</td>\n",
       "      <td>0.345725</td>\n",
       "      <td>0.029412</td>\n",
       "      <td>32</td>\n",
       "      <td>노후_20년초과</td>\n",
       "      <td>0</td>\n",
       "      <td>False</td>\n",
       "    </tr>\n",
       "    <tr>\n",
       "      <th>63985</th>\n",
       "      <td>1066.0</td>\n",
       "      <td>0.0</td>\n",
       "      <td>텐즈힐</td>\n",
       "      <td>148.8000</td>\n",
       "      <td>201802</td>\n",
       "      <td>8</td>\n",
       "      <td>15</td>\n",
       "      <td>2015</td>\n",
       "      <td>무학로 33</td>\n",
       "      <td>NULL</td>\n",
       "      <td>...</td>\n",
       "      <td>345</td>\n",
       "      <td>51</td>\n",
       "      <td>1493</td>\n",
       "      <td>1</td>\n",
       "      <td>0.147826</td>\n",
       "      <td>0.000670</td>\n",
       "      <td>3</td>\n",
       "      <td>신축_5년</td>\n",
       "      <td>0</td>\n",
       "      <td>False</td>\n",
       "    </tr>\n",
       "    <tr>\n",
       "      <th>623</th>\n",
       "      <td>527.0</td>\n",
       "      <td>0.0</td>\n",
       "      <td>도곡렉슬</td>\n",
       "      <td>59.9772</td>\n",
       "      <td>201808</td>\n",
       "      <td>13</td>\n",
       "      <td>17</td>\n",
       "      <td>2006</td>\n",
       "      <td>선릉로 221</td>\n",
       "      <td>아파트</td>\n",
       "      <td>...</td>\n",
       "      <td>725</td>\n",
       "      <td>140</td>\n",
       "      <td>2038</td>\n",
       "      <td>74</td>\n",
       "      <td>0.193103</td>\n",
       "      <td>0.036310</td>\n",
       "      <td>12</td>\n",
       "      <td>중고_20년</td>\n",
       "      <td>1</td>\n",
       "      <td>True</td>\n",
       "    </tr>\n",
       "    <tr>\n",
       "      <th>78311</th>\n",
       "      <td>961.0</td>\n",
       "      <td>0.0</td>\n",
       "      <td>하이페리온2</td>\n",
       "      <td>136.0810</td>\n",
       "      <td>201801</td>\n",
       "      <td>9</td>\n",
       "      <td>12</td>\n",
       "      <td>2006</td>\n",
       "      <td>오목로 300</td>\n",
       "      <td>NULL</td>\n",
       "      <td>...</td>\n",
       "      <td>538</td>\n",
       "      <td>186</td>\n",
       "      <td>544</td>\n",
       "      <td>16</td>\n",
       "      <td>0.345725</td>\n",
       "      <td>0.029412</td>\n",
       "      <td>12</td>\n",
       "      <td>중고_20년</td>\n",
       "      <td>0</td>\n",
       "      <td>False</td>\n",
       "    </tr>\n",
       "    <tr>\n",
       "      <th>75831</th>\n",
       "      <td>35.0</td>\n",
       "      <td>0.0</td>\n",
       "      <td>트리지움</td>\n",
       "      <td>84.9700</td>\n",
       "      <td>201801</td>\n",
       "      <td>5</td>\n",
       "      <td>17</td>\n",
       "      <td>2007</td>\n",
       "      <td>잠실로 62</td>\n",
       "      <td>NULL</td>\n",
       "      <td>...</td>\n",
       "      <td>988</td>\n",
       "      <td>180</td>\n",
       "      <td>438</td>\n",
       "      <td>30</td>\n",
       "      <td>0.182186</td>\n",
       "      <td>0.068493</td>\n",
       "      <td>11</td>\n",
       "      <td>중고_20년</td>\n",
       "      <td>1</td>\n",
       "      <td>False</td>\n",
       "    </tr>\n",
       "    <tr>\n",
       "      <th>74046</th>\n",
       "      <td>17.0</td>\n",
       "      <td>0.0</td>\n",
       "      <td>파크리오</td>\n",
       "      <td>84.7900</td>\n",
       "      <td>201801</td>\n",
       "      <td>20</td>\n",
       "      <td>18</td>\n",
       "      <td>2008</td>\n",
       "      <td>올림픽로 435</td>\n",
       "      <td>NULL</td>\n",
       "      <td>...</td>\n",
       "      <td>988</td>\n",
       "      <td>111</td>\n",
       "      <td>438</td>\n",
       "      <td>42</td>\n",
       "      <td>0.112348</td>\n",
       "      <td>0.095890</td>\n",
       "      <td>10</td>\n",
       "      <td>준신축_10년</td>\n",
       "      <td>1</td>\n",
       "      <td>False</td>\n",
       "    </tr>\n",
       "    <tr>\n",
       "      <th>71543</th>\n",
       "      <td>150.0</td>\n",
       "      <td>0.0</td>\n",
       "      <td>올림픽훼밀리타운</td>\n",
       "      <td>84.7510</td>\n",
       "      <td>201809</td>\n",
       "      <td>8</td>\n",
       "      <td>2</td>\n",
       "      <td>1988</td>\n",
       "      <td>중대로 24</td>\n",
       "      <td>아파트</td>\n",
       "      <td>...</td>\n",
       "      <td>537</td>\n",
       "      <td>71</td>\n",
       "      <td>4098</td>\n",
       "      <td>166</td>\n",
       "      <td>0.132216</td>\n",
       "      <td>0.040508</td>\n",
       "      <td>30</td>\n",
       "      <td>노후_20년초과</td>\n",
       "      <td>1</td>\n",
       "      <td>True</td>\n",
       "    </tr>\n",
       "    <tr>\n",
       "      <th>63011</th>\n",
       "      <td>377.0</td>\n",
       "      <td>0.0</td>\n",
       "      <td>서울숲더샵</td>\n",
       "      <td>114.4000</td>\n",
       "      <td>201809</td>\n",
       "      <td>14</td>\n",
       "      <td>38</td>\n",
       "      <td>2014</td>\n",
       "      <td>왕십리로 241</td>\n",
       "      <td>주상복합</td>\n",
       "      <td>...</td>\n",
       "      <td>294</td>\n",
       "      <td>66</td>\n",
       "      <td>3588</td>\n",
       "      <td>934</td>\n",
       "      <td>0.224490</td>\n",
       "      <td>0.260312</td>\n",
       "      <td>4</td>\n",
       "      <td>신축_5년</td>\n",
       "      <td>0</td>\n",
       "      <td>True</td>\n",
       "    </tr>\n",
       "    <tr>\n",
       "      <th>2563</th>\n",
       "      <td>463.0</td>\n",
       "      <td>1.0</td>\n",
       "      <td>우성사원5</td>\n",
       "      <td>78.9900</td>\n",
       "      <td>201802</td>\n",
       "      <td>7</td>\n",
       "      <td>8</td>\n",
       "      <td>1986</td>\n",
       "      <td>언주로29길 34</td>\n",
       "      <td>NULL</td>\n",
       "      <td>...</td>\n",
       "      <td>354</td>\n",
       "      <td>65</td>\n",
       "      <td>4582</td>\n",
       "      <td>131</td>\n",
       "      <td>0.183616</td>\n",
       "      <td>0.028590</td>\n",
       "      <td>32</td>\n",
       "      <td>노후_20년초과</td>\n",
       "      <td>1</td>\n",
       "      <td>False</td>\n",
       "    </tr>\n",
       "  </tbody>\n",
       "</table>\n",
       "<p>10 rows × 68 columns</p>\n",
       "</div>"
      ]
     },
     "metadata": {},
     "output_type": "display_data",
     "jetTransient": {
      "display_id": null
     }
    }
   ],
   "execution_count": 29
  },
  {
   "metadata": {
    "ExecuteTime": {
     "end_time": "2025-09-11T08:56:18.079803Z",
     "start_time": "2025-09-11T08:56:14.849525Z"
    }
   },
   "cell_type": "code",
   "source": [
    "region_col = '구'          # 지역\n",
    "area_col   = '전용면적'     # 면적\n",
    "target_col = 'target'      # 타깃\n",
    "\n",
    "df = house.copy()\n",
    "\n",
    "# 분리\n",
    "df_train = df[df['is_test'] == 0].copy()\n",
    "df_test  = df[df['is_test'] == 1].copy()\n",
    "\n",
    "# 1) 타깃 로그 변환(Train만)\n",
    "df_train['target_log'] = np.log1p(df_train[target_col])\n",
    "\n",
    "# 2) 지역 내 면적 분위수 기반 버킷 경계(Train에서만) 생성 → 전체에 적용\n",
    "n_bins = 10  # 표본 적으면 5로 조정 권장\n",
    "quant_grid = np.linspace(0.0, 1.0, n_bins + 1)\n",
    "\n",
    "# 지역별 면적 분위수 경계 사전: {region: np.ndarray(edges)}\n",
    "edges_by_region = {}\n",
    "global_edges = np.quantile(df_train[area_col].values, quant_grid)\n",
    "global_edges = np.unique(global_edges)  # 중복 제거(동일값 다수일 때 대비)\n",
    "\n",
    "for region, g in df_train.groupby(region_col, observed=True, dropna=False):\n",
    "    edges = np.quantile(g[area_col].values, quant_grid) if len(g) > 0 else global_edges\n",
    "    edges = np.unique(edges)\n",
    "    # 유효한 경계가 최소 2개 미만이면 글로벌 경계 사용\n",
    "    if edges.size < 2:\n",
    "        edges = global_edges\n",
    "    edges_by_region[region] = edges\n",
    "\n",
    "def assign_area_bin(row):\n",
    "    region = row[region_col]\n",
    "    val = row[area_col]\n",
    "    edges = edges_by_region.get(region, global_edges)\n",
    "    # pd.cut은 경계가 2개 이상 필요\n",
    "    if edges.size < 2 or pd.isna(val):\n",
    "        return pd.NA\n",
    "    try:\n",
    "        return pd.cut([val], bins=edges, labels=False, include_lowest=True)[0]\n",
    "    except Exception:\n",
    "        # 값이 경계를 벗어나거나, 경계 중복 등 문제 시 약간의 확장으로 재시도\n",
    "        span = edges[-1] - edges[0] if edges.size >= 2 else 1.0\n",
    "        eps = span * 1e-6 if span > 0 else 1e-6\n",
    "        edges_safe = edges.copy()\n",
    "        edges_safe[0]  = edges_safe[0] - eps\n",
    "        edges_safe[-1] = edges_safe[-1] + eps\n",
    "        try:\n",
    "            return pd.cut([val], bins=edges_safe, labels=False, include_lowest=True)[0]\n",
    "        except Exception:\n",
    "            return pd.NA\n",
    "\n",
    "df['area_bin_in_region'] = df.apply(assign_area_bin, axis=1).astype('Int64')\n",
    "\n",
    "# 3) 로그 스케일에서 지역×면적버킷별 하/상위 분위수 계산(Train만)\n",
    "low_q, up_q = 0.005, 0.995  # 0.5% ~ 99.5%\n",
    "grp = (\n",
    "    df_train\n",
    "    .merge(df[['area_bin_in_region']], left_index=True, right_index=True)\n",
    "    .groupby([region_col, 'area_bin_in_region'], observed=True, dropna=False)['target_log']\n",
    ")\n",
    "q_df = grp.quantile([low_q, up_q]).unstack(level=-1)\n",
    "q_df.columns = ['log_low', 'log_up']\n",
    "\n",
    "# 4) 각 행에 임계값 매핑 + 결측(표본 부족 그룹)은 Train 전역 분위수로 보완\n",
    "df_all = df.copy()\n",
    "df_all = df_all.merge(q_df, left_on=[region_col, 'area_bin_in_region'], right_index=True, how='left')\n",
    "\n",
    "global_low = df_train['target_log'].quantile(low_q)\n",
    "global_up  = df_train['target_log'].quantile(up_q)\n",
    "df_all['log_low'] = df_all['log_low'].fillna(global_low)\n",
    "df_all['log_up']  = df_all['log_up'].fillna(global_up)\n",
    "\n",
    "# 5) 클리핑(윈저라이징) - Train만 적용\n",
    "df_all['target_log'] = np.where(df_all['is_test'] == 0, np.log1p(df_all[target_col]), np.nan)\n",
    "df_all['target_log_clip'] = df_all['target_log']  # 기본값\n",
    "\n",
    "mask_train = df_all['is_test'] == 0\n",
    "df_all.loc[mask_train, 'target_log_clip'] = df_all.loc[mask_train, 'target_log'].clip(\n",
    "    lower=df_all.loc[mask_train, 'log_low'],\n",
    "    upper=df_all.loc[mask_train, 'log_up']\n",
    ")\n",
    "df_all['target_clip'] = np.expm1(df_all['target_log_clip'])\n",
    "\n",
    "# 6) 모니터링(Train 기준)\n",
    "clipped_low  = (df_all['target_log'] < df_all['log_low']) & mask_train\n",
    "clipped_high = (df_all['target_log'] > df_all['log_up']) & mask_train\n",
    "clipped_any  = clipped_low | clipped_high\n",
    "print(f\"[클리핑 비율 - Train] 전체={clipped_any.mean():.2%} / 하위={clipped_low.mean():.2%} / 상위={clipped_high.mean():.2%}\")\n",
    "\n",
    "# 7) 결과를 원본 house에 반영\n",
    "house['area_bin_in_region'] = df_all['area_bin_in_region'].values\n",
    "# Train만 존재하는 타깃 파생치\n",
    "house.loc[mask_train, 'target_log_clip'] = df_all.loc[mask_train, 'target_log_clip'].values\n",
    "house.loc[mask_train, 'target_clip']     = df_all.loc[mask_train, 'target_clip'].values"
   ],
   "id": "90c354f9e027166d",
   "outputs": [
    {
     "name": "stdout",
     "output_type": "stream",
     "text": [
      "[클리핑 비율 - Train] 전체=1.09% / 하위=0.55% / 상위=0.54%\n"
     ]
    }
   ],
   "execution_count": 30
  },
  {
   "metadata": {
    "ExecuteTime": {
     "end_time": "2025-09-11T08:56:18.282326Z",
     "start_time": "2025-09-11T08:56:18.125939Z"
    }
   },
   "cell_type": "code",
   "source": [
    "fig, axes = plt.subplots(1, 2, figsize=(10, 3))\n",
    "sns.boxplot(x=df_train[target_col], color='lightgreen', ax=axes[0])\n",
    "axes[0].set_title('원 스케일 분포 (Train)')\n",
    "\n",
    "sns.boxplot(x=np.expm1(df_all.loc[mask_train, 'target_log_clip']), color='skyblue', ax=axes[1])\n",
    "axes[1].set_title('로그 클리핑 후(복원) 분포 (Train)')\n",
    "plt.tight_layout()\n",
    "plt.show()\n",
    "\n",
    "# 튜닝 필요 시\n",
    "# - 상단 꼬리가 여전히 길어 모델이 고가 추정에 어려움이 있으면 상한 분위수를 조금 더 낮춰보세요.\n",
    "#     - 예: 0.5–99.0% 또는 1.0–99.0%\n",
    "#\n",
    "# - 반대로 고가 구간 예측력이 떨어진다면 상한을 살짝 완화.\n",
    "#     - 예: 0.25–99.75% (표본이 충분한 그룹에 한해)\n"
   ],
   "id": "2e7345ac646f65b",
   "outputs": [
    {
     "data": {
      "text/plain": [
       "<Figure size 1000x300 with 2 Axes>"
      ],
      "image/png": "[encoded data removed]"
     },
     "metadata": {},
     "output_type": "display_data",
     "jetTransient": {
      "display_id": null
     }
    }
   ],
   "execution_count": 31
  },
  {
   "metadata": {
    "ExecuteTime": {
     "end_time": "2025-09-11T08:56:19.498290Z",
     "start_time": "2025-09-11T08:56:18.292375Z"
    }
   },
   "cell_type": "code",
   "source": [
    "# house.columns 기반으로 feature 컬럼 자동 선택(타깃 관련은 제외)\n",
    "exclude_target_cols = ['target_log_clip', 'target_clip', 'target']\n",
    "feature_cols = [c for c in house.columns if c not in exclude_target_cols]\n",
    "\n",
    "# Train/Test 분리 후 저장: Train에는 target_log_clip만 포함\n",
    "train_out = house[house['is_test'] == 0][feature_cols + ['target_log_clip']]\n",
    "test_out  = house[house['is_test'] == 1][feature_cols]\n",
    "\n",
    "print(f\"[INFO] 결측치 제거 전 train shape: {train_out.shape}\")\n",
    "train_out = train_out[train_out['target_log_clip'].notna()]\n",
    "print(f\"[INFO] 결측치 제거 후 train shape: {train_out.shape}\")\n",
    "\n",
    "train_out.to_csv('train_processed.csv', index=False)\n",
    "test_out.to_csv('test_processed.csv', index=False)\n",
    "print('Saved: train_processed.csv, test_processed.csv')\n"
   ],
   "id": "62bd8021d5477d58",
   "outputs": [
    {
     "name": "stdout",
     "output_type": "stream",
     "text": [
      "[INFO] 결측치 제거 전 train shape: (73939, 69)\n",
      "[INFO] 결측치 제거 후 train shape: (73939, 69)\n",
      "Saved: train_processed.csv, test_processed.csv\n"
     ]
    }
   ],
   "execution_count": 32
  }
 ],
 "metadata": {
  "kernelspec": {
   "display_name": "Python 3",
   "language": "python",
   "name": "python3"
  },
  "language_info": {
   "codemirror_mode": {
    "name": "ipython",
    "version": 2
   },
   "file_extension": ".py",
   "mimetype": "text/x-python",
   "name": "python",
   "nbconvert_exporter": "python",
   "pygments_lexer": "ipython2",
   "version": "2.7.6"
  }
 },
 "nbformat": 4,
 "nbformat_minor": 5
}
