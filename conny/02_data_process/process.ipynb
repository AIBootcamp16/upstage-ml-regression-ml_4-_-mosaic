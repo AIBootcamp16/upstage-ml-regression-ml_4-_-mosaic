{
 "cells": [
  {
   "cell_type": "code",
   "id": "initial_id",
   "metadata": {
    "collapsed": true,
    "ExecuteTime": {
     "end_time": "2025-09-11T08:49:30.902258Z",
     "start_time": "2025-09-11T08:49:30.899907Z"
    }
   },
   "source": [
    "# visualization\n",
    "import matplotlib.pyplot as plt\n",
    "import matplotlib.font_manager as fm\n",
    "import pandas as pd\n",
    "import numpy as np\n",
    "import re\n",
    "from typing import Callable"
   ],
   "outputs": [],
   "execution_count": 15
  },
  {
   "metadata": {
    "ExecuteTime": {
     "end_time": "2025-09-11T08:49:31.765750Z",
     "start_time": "2025-09-11T08:49:31.763636Z"
    }
   },
   "cell_type": "code",
   "source": [
    "fe = fm.FontEntry(\n",
    "    fname=r'/usr/share/fonts/truetype/nanum/NanumGothic.ttf',  # ttf 파일이 저장되어 있는 경로\n",
    "    name='NanumBarunGothic')  # 이 폰트의 원하는 이름 설정\n",
    "fm.fontManager.ttflist.insert(0, fe)  # Matplotlib에 폰트 추가\n",
    "plt.rcParams.update({'font.size': 10, 'font.family': 'NanumBarunGothic'})  # 폰트 설정\n",
    "plt.rc('font', family='NanumBarunGothic')"
   ],
   "id": "5b267698e676f6f3",
   "outputs": [],
   "execution_count": 16
  },
  {
   "metadata": {
    "ExecuteTime": {
     "end_time": "2025-09-11T08:49:33.167335Z",
     "start_time": "2025-09-11T08:49:32.853361Z"
    }
   },
   "cell_type": "code",
   "source": [
    "address = pd.read_csv('../01_address/address_with_poi.csv')\n",
    "construction = pd.read_csv('../data/construction.csv')\n",
    "apt_brand = pd.read_csv('../data/apt_brand.csv')\n",
    "dt = pd.read_csv('train.csv', encoding_errors='ignore')\n",
    "dt_test = pd.read_csv('test.csv', encoding_errors='ignore')"
   ],
   "id": "14756255ccb86a6d",
   "outputs": [
    {
     "name": "stderr",
     "output_type": "stream",
     "text": [
      "/var/folders/h2/3s0kf71j1wd60qyytwysjfl40000gn/T/ipykernel_7179/4266265045.py:4: DtypeWarning: Columns (16,17) have mixed types. Specify dtype option on import or set low_memory=False.\n",
      "  dt = pd.read_csv('train.csv', encoding_errors='ignore')\n"
     ]
    }
   ],
   "execution_count": 17
  },
  {
   "metadata": {
    "ExecuteTime": {
     "end_time": "2025-09-11T08:49:34.785802Z",
     "start_time": "2025-09-11T08:49:34.760568Z"
    }
   },
   "cell_type": "code",
   "source": [
    "dt['is_test'] = 0\n",
    "dt_test['is_test'] = 1\n",
    "house = pd.concat([dt, dt_test])  # 하나의 데이터로 만들어줍니다."
   ],
   "id": "e3a792934dc36cf8",
   "outputs": [],
   "execution_count": 18
  },
  {
   "metadata": {
    "ExecuteTime": {
     "end_time": "2025-09-11T08:49:36.050557Z",
     "start_time": "2025-09-11T08:49:35.955880Z"
    }
   },
   "cell_type": "code",
   "source": [
    "house = house.rename(columns={'좌표X': '경도'})\n",
    "house = house.rename(columns={'좌표Y': '위도'})"
   ],
   "id": "3a9dc46ddd6fa409",
   "outputs": [],
   "execution_count": 19
  },
  {
   "metadata": {
    "ExecuteTime": {
     "end_time": "2025-09-11T08:49:37.304905Z",
     "start_time": "2025-09-11T08:49:37.250011Z"
    }
   },
   "cell_type": "code",
   "source": "house['주소'] = house['시군구'].str.rstrip().str.cat(house['도로명'].str.rstrip(), sep=' ', na_rep='').str.rstrip()",
   "id": "3c790cb76dbf2be",
   "outputs": [],
   "execution_count": 20
  },
  {
   "metadata": {
    "ExecuteTime": {
     "end_time": "2025-09-11T08:49:38.866784Z",
     "start_time": "2025-09-11T08:49:38.757342Z"
    }
   },
   "cell_type": "code",
   "source": [
    "# house에 위도/경도 컬럼이 혹시 있어도 삭제 후 병합(LEFT JOIN)\n",
    "house = (\n",
    "    house\n",
    "    .drop(columns=[\"위도\", \"경도\"], errors=\"ignore\")\n",
    "    .merge(address, how=\"left\", on=\"주소\")\n",
    ")\n",
    "\n",
    "# 매칭률 확인\n",
    "matched = house[\"위도\"].notna().sum()\n",
    "total = len(house)\n",
    "print(f\"매칭 성공률: {matched / total:.1%} ({matched}/{total})\")\n",
    "\n",
    "# 확인\n",
    "display(house.head())"
   ],
   "id": "e754a9e53f226e64",
   "outputs": [
    {
     "name": "stdout",
     "output_type": "stream",
     "text": [
      "매칭 성공률: 100.0% (116964/116964)\n"
     ]
    },
    {
     "data": {
      "text/plain": [
       "             시군구     번지     본번   부번    아파트명  전용면적(㎡)    계약년월  계약일  층  건축년도  \\\n",
       "0  서울특별시 강남구 개포동  658-1  658.0  1.0  개포6차우성    79.97  201712    8  3  1987   \n",
       "1  서울특별시 강남구 개포동  658-1  658.0  1.0  개포6차우성    79.97  201712   22  4  1987   \n",
       "2  서울특별시 강남구 개포동  658-1  658.0  1.0  개포6차우성    54.98  201712   28  5  1987   \n",
       "3  서울특별시 강남구 개포동  658-1  658.0  1.0  개포6차우성    79.97  201801    3  4  1987   \n",
       "4  서울특별시 강남구 개포동  658-1  658.0  1.0  개포6차우성    79.97  201801    8  2  1987   \n",
       "\n",
       "   ... 3_school  5_school 10_school bus_access_score sub_access_score  \\\n",
       "0  ...     24.0      52.0     172.0            980.5             37.8   \n",
       "1  ...     24.0      52.0     172.0            980.5             37.8   \n",
       "2  ...     24.0      52.0     172.0            980.5             37.8   \n",
       "3  ...     24.0      52.0     172.0            980.5             37.8   \n",
       "4  ...     24.0      52.0     172.0            980.5             37.8   \n",
       "\n",
       "  school_access_score 1_sub 3_sub  5_sub 10_sub  \n",
       "0                51.2   0.0  14.0   46.0  156.0  \n",
       "1                51.2   0.0  14.0   46.0  156.0  \n",
       "2                51.2   0.0  14.0   46.0  156.0  \n",
       "3                51.2   0.0  14.0   46.0  156.0  \n",
       "4                51.2   0.0  14.0   46.0  156.0  \n",
       "\n",
       "[5 rows x 69 columns]"
      ],
      "text/html": [
       "<div>\n",
       "<style scoped>\n",
       "    .dataframe tbody tr th:only-of-type {\n",
       "        vertical-align: middle;\n",
       "    }\n",
       "\n",
       "    .dataframe tbody tr th {\n",
       "        vertical-align: top;\n",
       "    }\n",
       "\n",
       "    .dataframe thead th {\n",
       "        text-align: right;\n",
       "    }\n",
       "</style>\n",
       "<table border=\"1\" class=\"dataframe\">\n",
       "  <thead>\n",
       "    <tr style=\"text-align: right;\">\n",
       "      <th></th>\n",
       "      <th>시군구</th>\n",
       "      <th>번지</th>\n",
       "      <th>본번</th>\n",
       "      <th>부번</th>\n",
       "      <th>아파트명</th>\n",
       "      <th>전용면적(㎡)</th>\n",
       "      <th>계약년월</th>\n",
       "      <th>계약일</th>\n",
       "      <th>층</th>\n",
       "      <th>건축년도</th>\n",
       "      <th>...</th>\n",
       "      <th>3_school</th>\n",
       "      <th>5_school</th>\n",
       "      <th>10_school</th>\n",
       "      <th>bus_access_score</th>\n",
       "      <th>sub_access_score</th>\n",
       "      <th>school_access_score</th>\n",
       "      <th>1_sub</th>\n",
       "      <th>3_sub</th>\n",
       "      <th>5_sub</th>\n",
       "      <th>10_sub</th>\n",
       "    </tr>\n",
       "  </thead>\n",
       "  <tbody>\n",
       "    <tr>\n",
       "      <th>0</th>\n",
       "      <td>서울특별시 강남구 개포동</td>\n",
       "      <td>658-1</td>\n",
       "      <td>658.0</td>\n",
       "      <td>1.0</td>\n",
       "      <td>개포6차우성</td>\n",
       "      <td>79.97</td>\n",
       "      <td>201712</td>\n",
       "      <td>8</td>\n",
       "      <td>3</td>\n",
       "      <td>1987</td>\n",
       "      <td>...</td>\n",
       "      <td>24.0</td>\n",
       "      <td>52.0</td>\n",
       "      <td>172.0</td>\n",
       "      <td>980.5</td>\n",
       "      <td>37.8</td>\n",
       "      <td>51.2</td>\n",
       "      <td>0.0</td>\n",
       "      <td>14.0</td>\n",
       "      <td>46.0</td>\n",
       "      <td>156.0</td>\n",
       "    </tr>\n",
       "    <tr>\n",
       "      <th>1</th>\n",
       "      <td>서울특별시 강남구 개포동</td>\n",
       "      <td>658-1</td>\n",
       "      <td>658.0</td>\n",
       "      <td>1.0</td>\n",
       "      <td>개포6차우성</td>\n",
       "      <td>79.97</td>\n",
       "      <td>201712</td>\n",
       "      <td>22</td>\n",
       "      <td>4</td>\n",
       "      <td>1987</td>\n",
       "      <td>...</td>\n",
       "      <td>24.0</td>\n",
       "      <td>52.0</td>\n",
       "      <td>172.0</td>\n",
       "      <td>980.5</td>\n",
       "      <td>37.8</td>\n",
       "      <td>51.2</td>\n",
       "      <td>0.0</td>\n",
       "      <td>14.0</td>\n",
       "      <td>46.0</td>\n",
       "      <td>156.0</td>\n",
       "    </tr>\n",
       "    <tr>\n",
       "      <th>2</th>\n",
       "      <td>서울특별시 강남구 개포동</td>\n",
       "      <td>658-1</td>\n",
       "      <td>658.0</td>\n",
       "      <td>1.0</td>\n",
       "      <td>개포6차우성</td>\n",
       "      <td>54.98</td>\n",
       "      <td>201712</td>\n",
       "      <td>28</td>\n",
       "      <td>5</td>\n",
       "      <td>1987</td>\n",
       "      <td>...</td>\n",
       "      <td>24.0</td>\n",
       "      <td>52.0</td>\n",
       "      <td>172.0</td>\n",
       "      <td>980.5</td>\n",
       "      <td>37.8</td>\n",
       "      <td>51.2</td>\n",
       "      <td>0.0</td>\n",
       "      <td>14.0</td>\n",
       "      <td>46.0</td>\n",
       "      <td>156.0</td>\n",
       "    </tr>\n",
       "    <tr>\n",
       "      <th>3</th>\n",
       "      <td>서울특별시 강남구 개포동</td>\n",
       "      <td>658-1</td>\n",
       "      <td>658.0</td>\n",
       "      <td>1.0</td>\n",
       "      <td>개포6차우성</td>\n",
       "      <td>79.97</td>\n",
       "      <td>201801</td>\n",
       "      <td>3</td>\n",
       "      <td>4</td>\n",
       "      <td>1987</td>\n",
       "      <td>...</td>\n",
       "      <td>24.0</td>\n",
       "      <td>52.0</td>\n",
       "      <td>172.0</td>\n",
       "      <td>980.5</td>\n",
       "      <td>37.8</td>\n",
       "      <td>51.2</td>\n",
       "      <td>0.0</td>\n",
       "      <td>14.0</td>\n",
       "      <td>46.0</td>\n",
       "      <td>156.0</td>\n",
       "    </tr>\n",
       "    <tr>\n",
       "      <th>4</th>\n",
       "      <td>서울특별시 강남구 개포동</td>\n",
       "      <td>658-1</td>\n",
       "      <td>658.0</td>\n",
       "      <td>1.0</td>\n",
       "      <td>개포6차우성</td>\n",
       "      <td>79.97</td>\n",
       "      <td>201801</td>\n",
       "      <td>8</td>\n",
       "      <td>2</td>\n",
       "      <td>1987</td>\n",
       "      <td>...</td>\n",
       "      <td>24.0</td>\n",
       "      <td>52.0</td>\n",
       "      <td>172.0</td>\n",
       "      <td>980.5</td>\n",
       "      <td>37.8</td>\n",
       "      <td>51.2</td>\n",
       "      <td>0.0</td>\n",
       "      <td>14.0</td>\n",
       "      <td>46.0</td>\n",
       "      <td>156.0</td>\n",
       "    </tr>\n",
       "  </tbody>\n",
       "</table>\n",
       "<p>5 rows × 69 columns</p>\n",
       "</div>"
      ]
     },
     "metadata": {},
     "output_type": "display_data",
     "jetTransient": {
      "display_id": null
     }
    }
   ],
   "execution_count": 21
  },
  {
   "metadata": {
    "ExecuteTime": {
     "end_time": "2025-09-11T08:49:40.530779Z",
     "start_time": "2025-09-11T08:49:40.527515Z"
    }
   },
   "cell_type": "code",
   "source": [
    "def set_columns_to_nan(df: pd.DataFrame, columns: list, inplace: bool = True) -> pd.DataFrame:\n",
    "    \"\"\"\n",
    "    지정한 컬럼들을 통째로 np.nan으로 설정합니다.\n",
    "    존재하지 않는 컬럼은 무시합니다.\n",
    "    \"\"\"\n",
    "    target = df if inplace else df.copy()\n",
    "    existing = [c for c in columns if c in target.columns]\n",
    "    if existing:\n",
    "        target[existing] = np.nan\n",
    "    return target\n"
   ],
   "id": "7a6f724533bab545",
   "outputs": [],
   "execution_count": 22
  },
  {
   "metadata": {
    "ExecuteTime": {
     "end_time": "2025-09-11T08:49:41.824224Z",
     "start_time": "2025-09-11T08:49:41.821704Z"
    }
   },
   "cell_type": "code",
   "source": [
    "drop_columns = ['k_전화번호', 'k_팩스번호', '단지소개기존clob', 'k_홈페이지', 'k_등록일자', 'k_수정일자', '고용보험관리번호', '관리비 업로드', '중개사소재지',\n",
    "                '등기신청일자', '사용허가여부', '단지신청일', '단지승인일', '번지', 'k_135㎡초과', '거래유형', '해제사유발생일', 'k_연면적', 'k_관리비부과면적',\n",
    "                'k_전체세대수', 'k_전용면적별세대현황_60㎡이하_', 'k_전용면적별세대현황_60㎡~85㎡이하_',\n",
    "                'k_85㎡~135㎡이하', 'k_주거전용면적', '주차대수', '건축면적', 'k_전체동수', 'k_관리방식', '기타/의무/임대/임의=1/2/3/4']"
   ],
   "id": "3981ac66f025730e",
   "outputs": [],
   "execution_count": 23
  },
  {
   "metadata": {
    "ExecuteTime": {
     "end_time": "2025-09-11T08:49:43.111501Z",
     "start_time": "2025-09-11T08:49:43.106311Z"
    }
   },
   "cell_type": "code",
   "source": "house = set_columns_to_nan(house, drop_columns, inplace=True)",
   "id": "d5355ffdd90efb42",
   "outputs": [],
   "execution_count": 24
  },
  {
   "metadata": {
    "ExecuteTime": {
     "end_time": "2025-09-11T08:49:44.603460Z",
     "start_time": "2025-09-11T08:49:44.518123Z"
    }
   },
   "cell_type": "code",
   "source": [
    "house = house.rename(columns={'전용면적(㎡)': '전용면적'})\n",
    "# 'k-' 접두어를 모든 컬럼에서 제거\n",
    "house.columns = house.columns.str.replace(r'^k-', 'k_', regex=True)\n",
    "# '(,)'를 '_'로 치환\n",
    "house.columns = house.columns.str.replace(r'[(),]', '_', regex=True)\n",
    "house = house.rename(columns={'기타/의무/임대/임의=1/2/3/4': '기타_의무_임대_임의'})"
   ],
   "id": "42c8b703c51e47ba",
   "outputs": [],
   "execution_count": 25
  },
  {
   "metadata": {
    "ExecuteTime": {
     "end_time": "2025-09-11T08:49:45.977844Z",
     "start_time": "2025-09-11T08:49:45.880046Z"
    }
   },
   "cell_type": "code",
   "source": [
    "# is_test로 분리 후 train에서만 삭제, test는 유지\n",
    "\n",
    "house_train = house.loc[house['is_test'] == 0]\n",
    "house_test = house.loc[house['is_test'] == 1]\n",
    "\n",
    "# 아파트명이 null인 행 삭제 (train만)\n",
    "house_train = house_train[house_train[\"아파트명\"].notna()]\n",
    "\n",
    "# 해제 사유 발생일이 있으면 삭제\n",
    "# 매매계약이 이루어지지 않은 계약\n",
    "house_train = house_train[house_train[\"해제사유발생일\"].isna()]\n",
    "\n",
    "house = pd.concat([house_train, house_test], axis=0)"
   ],
   "id": "2a7bea6142952eaf",
   "outputs": [],
   "execution_count": 26
  },
  {
   "metadata": {
    "ExecuteTime": {
     "end_time": "2025-09-11T08:49:47.400638Z",
     "start_time": "2025-09-11T08:49:47.335208Z"
    }
   },
   "cell_type": "code",
   "source": [
    "# 본번, 부번의 경우 float로 되어있지만 범주형 변수의 의미를 가지므로 object(string) 형태로 바꾸어주고 아래 작업을 진행하겠습니다.\n",
    "house['본번'] = house['본번'].astype('str')\n",
    "house['부번'] = house['부번'].astype('str')"
   ],
   "id": "8362f42753b3aeb2",
   "outputs": [],
   "execution_count": 27
  },
  {
   "metadata": {
    "ExecuteTime": {
     "end_time": "2025-09-11T08:49:49.530436Z",
     "start_time": "2025-09-11T08:49:49.450470Z"
    }
   },
   "cell_type": "code",
   "source": [
    "# 계약년월로 구성되어 있는 컬럼을 연도와 월로 나눠 컬럼을 생성합니다.\n",
    "house[\"계약연도\"] = house[\"계약년월\"].astype(str).str[:4]  # 첫 4글자는 연도\n",
    "house[\"계약월\"] = house[\"계약년월\"].astype(str).str[4:]  # 나머지 글자는 월\n",
    "\n",
    "# 계약월 컬럼을 1 -> 01, 2 -> 02 형태로 포맷을 변경합니다.\n",
    "house['계약일'] = house['계약일'].apply(lambda x: f'{x:02d}')"
   ],
   "id": "c74ebca2ce8c105b",
   "outputs": [],
   "execution_count": 28
  },
  {
   "metadata": {},
   "cell_type": "code",
   "source": [
    "# 시군구, 년월 등 분할할 수 있는 변수들은 세부사항 고려를 용이하게 하기 위해 모두 분할해 주겠습니다.\n",
    "house['구'] = house['시군구'].map(lambda x: x.split()[1])\n",
    "house['동'] = house['시군구'].map(lambda x: x.split()[2])\n",
    "del house['시군구']"
   ],
   "id": "79063f84bcfb45e8",
   "outputs": [],
   "execution_count": null
  },
  {
   "metadata": {},
   "cell_type": "code",
   "source": [
    "# 숫자형으로 정규화\n",
    "house[\"층\"] = pd.to_numeric(house.get(\"층\"), errors=\"coerce\")\n",
    "\n",
    "# 아파트명 그룹별 최고층\n",
    "house[\"아파트_최고층\"] = (\n",
    "    house.groupby(\"아파트명\")[\"층\"]\n",
    "         .transform(\"max\")\n",
    "         .astype(\"Float32\")\n",
    ")\n",
    "\n",
    "# 최고층 0 또는 NaN 예외 처리\n",
    "house.loc[house[\"아파트_최고층\"].le(0) | house[\"아파트_최고층\"].isna(), \"아파트_최고층\"] = np.nan\n",
    "\n",
    "# 층/최고층 비율 (0~1 클립)\n",
    "ratio = np.where(\n",
    "    house[\"아파트_최고층\"].notna() & house[\"층\"].notna() & house[\"아파트_최고층\"].gt(0),\n",
    "    house[\"층\"] / house[\"아파트_최고층\"],\n",
    "    np.nan\n",
    ")\n",
    "house[\"층_최고층대비비율\"] = np.clip(ratio, 0.0, 1.0).astype(float)\n",
    "\n",
    "# 상대 구간화: 하위 1/3, 중간 1/3, 상위 1/3\n",
    "bins = [-0.000001, 1/3, 2/3, 1.000001]\n",
    "labels = [\"저층\", \"중층\", \"고층\"]\n",
    "house[\"층구간_상대\"] = pd.cut(house[\"층_최고층대비비율\"], bins=bins, labels=labels).astype(object)\n",
    "\n",
    "print(\"생성 컬럼:\", [\"아파트_최고층\", \"층_최고층대비비율\", \"층구간_상대\"])"
   ],
   "id": "f4f964768b21e26",
   "outputs": [],
   "execution_count": null
  },
  {
   "metadata": {},
   "cell_type": "code",
   "source": [
    "# 행정구/동 거래 밀도(동기간 표본 수)\n",
    "# 연-월 키 생성\n",
    "house[\"계약연도\"] = pd.to_numeric(house[\"계약연도\"], errors=\"coerce\").astype(\"Int16\")\n",
    "house[\"계약월\"] = pd.to_numeric(house[\"계약월\"], errors=\"coerce\").astype(\"Int8\")\n",
    "_ym = house[\"계약연도\"].astype(str) + \"-\" + house[\"계약월\"].astype(str).str.zfill(2)\n",
    "house[\"_ym\"] = _ym\n",
    "\n",
    "# 구/동-해당달 거래수 집계\n",
    "house[\"구_해당달_거래수\"] = (\n",
    "    house.groupby([\"구\", \"_ym\"])[\"본번\"]\n",
    "         .transform(\"size\")\n",
    "         .astype(\"Int32\")\n",
    ")\n",
    "house[\"동_해당달_거래수\"] = (\n",
    "    house.groupby([\"구\", \"동\", \"_ym\"])[\"본번\"]\n",
    "         .transform(\"size\")\n",
    "         .astype(\"Int32\")\n",
    ")\n",
    "\n",
    "# 임시 키 제거\n",
    "house.drop(columns=[\"_ym\"], inplace=True, errors=\"ignore\")"
   ],
   "id": "2180342edee04b08",
   "outputs": [],
   "execution_count": null
  },
  {
   "metadata": {},
   "cell_type": "code",
   "source": [
    "def _ensure_month_key(df: pd.DataFrame, year_col=\"계약연도\", month_col=\"계약월\", out_col=\"_ym_date\") -> pd.Series:\n",
    "    y = pd.to_numeric(df[year_col], errors=\"coerce\").astype(\"Int64\")\n",
    "    m = pd.to_numeric(df[month_col], errors=\"coerce\").astype(\"Int64\")\n",
    "    ym = pd.to_datetime(y.astype(str) + \"-\" + m.astype(str).str.zfill(2) + \"-01\", errors=\"coerce\")\n",
    "    df[out_col] = ym\n",
    "    return df[out_col]\n",
    "\n",
    "def _monthly_past_cumcount(df: pd.DataFrame, key_cols: list[str], ym_col: str, id_col: str = \"본번\") -> pd.Series:\n",
    "    \"\"\"\n",
    "    현재 월 포함 X, 직전 달까지의 누적 거래수(표본 수).\n",
    "    - 월별 집계 -> 키별 월순 정렬 누적합 -> shift(1)로 현재월 제외\n",
    "    - 원본 df의 각 행에 (key, month) 매핑\n",
    "    \"\"\"\n",
    "    monthly = (\n",
    "        df.groupby(key_cols + [ym_col])[id_col]\n",
    "          .size()\n",
    "          .rename(\"cnt\")\n",
    "          .reset_index()\n",
    "          .sort_values(ym_col)\n",
    "    )\n",
    "    monthly[\"past_cum\"] = (\n",
    "        monthly.groupby(key_cols)[\"cnt\"]\n",
    "               .cumsum()\n",
    "               .shift(1)\n",
    "               .fillna(0)\n",
    "               .astype(int)\n",
    "    )\n",
    "    past = pd.merge(\n",
    "        df[key_cols + [ym_col]].reset_index(),\n",
    "        monthly[key_cols + [ym_col, \"past_cum\"]],\n",
    "        on=key_cols + [ym_col],\n",
    "        how=\"left\"\n",
    "    ).set_index(\"index\")[\"past_cum\"].fillna(0).astype(\"Int32\")\n",
    "    return past\n",
    "\n",
    "def add_allpast_features(house: pd.DataFrame) -> pd.DataFrame:\n",
    "    \"\"\"\n",
    "    전 데이터 구간에서 과거만 누적(현재월 제외)한 안전 특징.\n",
    "    추론 시 사용 가능.\n",
    "    \"\"\"\n",
    "    _ensure_month_key(house, out_col=\"_ym_date\")\n",
    "    house[\"구_직전달까지누적거래수\"] = _monthly_past_cumcount(house, [\"구\"], \"_ym_date\")\n",
    "    house[\"동_직전달까지누적거래수\"] = _monthly_past_cumcount(house, [\"구\", \"동\"], \"_ym_date\")\n",
    "    house.drop(columns=[\"_ym_date\"], inplace=True, errors=\"ignore\")\n",
    "    return house\n",
    "\n",
    "# 생성 실행\n",
    "house = add_allpast_features(house)\n",
    "\n",
    "print(\"생성 완료:\",\n",
    "      house[[\"구_직전달까지누적거래수\", \"동_직전달까지누적거래수\"]].dtypes.to_dict())"
   ],
   "id": "3faaee689d214eca",
   "outputs": [],
   "execution_count": null
  },
  {
   "metadata": {},
   "cell_type": "code",
   "source": [
    "# 거래 밀도 정규화 비율(해당달, 직전달까지 누적)\n",
    "for c in [\"구_해당달_거래수\", \"동_해당달_거래수\", \"구_직전달까지누적거래수\", \"동_직전달까지누적거래수\"]:\n",
    "    if c in house.columns:\n",
    "        house[c] = pd.to_numeric(house[c], errors=\"coerce\").fillna(0).astype(\"Int32\")\n",
    "\n",
    "house[\"동대구_해당달_비율\"] = np.where(\n",
    "    house[\"구_해당달_거래수\"].gt(0),\n",
    "    house[\"동_해당달_거래수\"] / house[\"구_해당달_거래수\"],\n",
    "    0.0\n",
    ")\n",
    "\n",
    "house[\"동대구_직전누적_비율\"] = np.where(\n",
    "    house[\"구_직전달까지누적거래수\"].gt(0),\n",
    "    house[\"동_직전달까지누적거래수\"] / house[\"구_직전달까지누적거래수\"],\n",
    "    0.0\n",
    ")\n"
   ],
   "id": "8893c4ac6c6083e",
   "outputs": [],
   "execution_count": null
  },
  {
   "metadata": {},
   "cell_type": "code",
   "source": [
    "# 연식 구간화\n",
    "house[\"계약연도\"] = pd.to_numeric(house[\"계약연도\"], errors=\"coerce\").astype(\"Int16\")\n",
    "house[\"건축년도\"] = pd.to_numeric(house[\"건축년도\"], errors=\"coerce\").astype(\"Int16\")\n",
    "house[\"연식\"] = (house[\"계약연도\"] - house[\"건축년도\"]).clip(lower=0)\n",
    "house[\"연식_bin\"] = pd.cut(\n",
    "    house[\"연식\"],\n",
    "    bins=[-1, 5, 10, 20, 200],\n",
    "    labels=[\"신축_5년\", \"준신축_10년\", \"중고_20년\", \"노후_20년초과\"]\n",
    ").astype(object)\n"
   ],
   "id": "26e00371db53f95e",
   "outputs": [],
   "execution_count": null
  },
  {
   "metadata": {},
   "cell_type": "code",
   "source": [
    "all = list(house['구'].unique())\n",
    "gangnam = ['강서구', '영등포구', '동작구', '서초구', '강남구', '송파구', '강동구']\n",
    "gangbuk = [x for x in all if x not in gangnam]\n",
    "\n",
    "# 강남의 여부를 체크합니다.\n",
    "is_gangnam = []\n",
    "for x in house['구'].tolist():\n",
    "    if x in gangnam:\n",
    "        is_gangnam.append(1)\n",
    "    else:\n",
    "        is_gangnam.append(0)\n",
    "\n",
    "# 파생변수를 하나 만릅니다.\n",
    "house['강남여부'] = is_gangnam"
   ],
   "id": "8cac582d00bf2111",
   "outputs": [],
   "execution_count": null
  },
  {
   "metadata": {},
   "cell_type": "code",
   "source": [
    "# ---------- 공통 유틸 ----------\n",
    "\n",
    "def is_na_like(val) -> bool:\n",
    "    \"\"\"None, NaN, 공백, 'NULL' 등 결측성 값을 True로 판정\"\"\"\n",
    "    if val is None:\n",
    "        return True\n",
    "    if isinstance(val, float) and np.isnan(val):\n",
    "        return True\n",
    "    s = str(val).strip()\n",
    "    return (s == '') or (s.upper() == 'NULL')\n",
    "\n",
    "def normalize_strip_all_spaces(s) -> str:\n",
    "    \"\"\"앞뒤/중간 모든 공백 제거 후 문자열 반환\"\"\"\n",
    "    s = str(s).strip()\n",
    "    s = re.sub(r'\\s+', '', s)\n",
    "    return s\n",
    "\n",
    "def extract_two_char_prefixes(name: str) -> set[str]:\n",
    "    \"\"\"\n",
    "    문자열 내 한글 토큰에서 앞 2글자(prefix) 집합을 추출.\n",
    "    - 한글이 아닌 구분자(공백/쉼표/괄호/숫자/기호 등)로 split\n",
    "    \"\"\"\n",
    "    if not isinstance(name, str):\n",
    "        return set()\n",
    "    tokens = [t for t in re.split(r'[^가-힣]+', name) if t]\n",
    "    return {t[:2] for t in tokens if len(t) >= 2}\n"
   ],
   "id": "acf7b2a30b680497",
   "outputs": [],
   "execution_count": null
  },
  {
   "metadata": {},
   "cell_type": "code",
   "source": [
    "# ---------- 시공사(메이저) 판별 ----------\n",
    "\n",
    "def build_prefix_set_from_series(series: pd.Series) -> set[str]:\n",
    "    \"\"\"\n",
    "    회사명/브랜드명 등 문자열 시리즈에서 2글자 prefix 집합을 생성\n",
    "    \"\"\"\n",
    "    prefixes: set[str] = set()\n",
    "    for s in series.dropna().astype(str):\n",
    "        prefixes |= extract_two_char_prefixes(s)\n",
    "    return prefixes\n",
    "\n",
    "def make_is_major_construction_fn(construction_prefixes: set[str]) -> Callable[[object], bool]:\n",
    "    \"\"\"\n",
    "    construction_prefixes를 캡쳐한 판별 함수를 생성하여 반환\n",
    "    \"\"\"\n",
    "    def _is_major(val) -> bool:\n",
    "        if is_na_like(val):\n",
    "            return False\n",
    "        prefixes = extract_two_char_prefixes(str(val).strip())\n",
    "        return any(p in construction_prefixes for p in prefixes)\n",
    "    return _is_major\n"
   ],
   "id": "18cba5cc83d8ed15",
   "outputs": [],
   "execution_count": null
  },
  {
   "metadata": {},
   "cell_type": "code",
   "source": [
    "# ---------- 아파트 브랜드 판별 ----------\n",
    "\n",
    "def build_brand_helpers(brand_series: pd.Series) -> tuple[list[str], set[str]]:\n",
    "    \"\"\"\n",
    "    브랜드 시리즈로부터\n",
    "    - 정규화된 브랜드 전체 문자열 목록 (brands_norm)\n",
    "    - 브랜드 앞 2글자 prefix 집합 (brand_prefixes)\n",
    "    을 생성하여 반환\n",
    "    \"\"\"\n",
    "    cleaned = brand_series.dropna().astype(str).str.strip()\n",
    "    brands_norm = [normalize_strip_all_spaces(b) for b in cleaned]\n",
    "\n",
    "    brand_prefixes = set()\n",
    "    for b in brands_norm:\n",
    "        if len(b) >= 2:\n",
    "            brand_prefixes.add(b[:2])\n",
    "\n",
    "    return brands_norm, brand_prefixes\n",
    "\n",
    "def make_has_brand_fn(brands_norm: list[str], brand_prefixes: set[str]) -> Callable[[object], bool]:\n",
    "    \"\"\"\n",
    "    브랜드 목록/프리픽스 집합을 캡쳐한 판별 함수를 생성하여 반환\n",
    "    \"\"\"\n",
    "    def _has_brand(name) -> bool:\n",
    "        if is_na_like(name):\n",
    "            return False\n",
    "        s = normalize_strip_all_spaces(name)\n",
    "\n",
    "        # 1) 전체 브랜드명이 그대로 포함되면 True\n",
    "        for b in brands_norm:\n",
    "            if b and b in s:\n",
    "                return True\n",
    "\n",
    "        # 2) 아니면 앞 2글자(prefix)라도 포함되면 True\n",
    "        #    예: 'SK뷰' -> 'SK', 'e편한세상' -> 'e편'\n",
    "        return any((p in s) for p in brand_prefixes)\n",
    "    return _has_brand\n"
   ],
   "id": "21fc255776f87d46",
   "outputs": [],
   "execution_count": null
  },
  {
   "metadata": {},
   "cell_type": "code",
   "source": [
    "# 1) 시공사 메이저 여부\n",
    "construction_prefixes = build_prefix_set_from_series(construction['회사명'])\n",
    "is_major_construction = make_is_major_construction_fn(construction_prefixes)\n",
    "house['major_construction'] = house['k_건설사_시공사_'].apply(is_major_construction)\n",
    "house['major_construction'].value_counts(dropna=False)"
   ],
   "id": "62a47402f02a4322",
   "outputs": [],
   "execution_count": null
  },
  {
   "metadata": {},
   "cell_type": "code",
   "source": [
    "# 2) 아파트 브랜드 여부\n",
    "brands_norm, brand_prefixes = build_brand_helpers(apt_brand['아파트브랜드'])\n",
    "has_brand = make_has_brand_fn(brands_norm, brand_prefixes)\n",
    "house['brand'] = house['아파트명'].apply(has_brand)\n",
    "house['brand'].value_counts(dropna=False)"
   ],
   "id": "aff08003f08efea4",
   "outputs": [],
   "execution_count": null
  },
  {
   "metadata": {},
   "cell_type": "code",
   "source": [
    "# 3) 통합 '브랜드' 플래그 생성 및 기존 컬럼 정리\n",
    "# NaN은 False로 간주하여 통합\n",
    "house['브랜드'] = house[['major_construction', 'brand']].fillna(False).any(axis=1)\n",
    "\n",
    "# 기존 컬럼 삭제\n",
    "house = house.drop(columns=['major_construction', 'brand'])\n",
    "\n",
    "# 확인\n",
    "house['브랜드'].value_counts(dropna=False)"
   ],
   "id": "cab0ad26013a9b6c",
   "outputs": [],
   "execution_count": null
  },
  {
   "metadata": {},
   "cell_type": "code",
   "source": [
    "# 위에서 결측치가 100만개 이하인 변수들만 골라 새로운 house_select 객체로 저장해줍니다.\n",
    "selected = list(house.columns[house.isnull().sum() <= 100000])\n",
    "house_select = house[selected]"
   ],
   "id": "4f2f0ae25c9b613",
   "outputs": [],
   "execution_count": null
  },
  {
   "metadata": {},
   "cell_type": "code",
   "source": [
    "def plot_missing_ratio(\n",
    "        df,\n",
    "        min_ratio=0.0,\n",
    "        figsize=(13, 2),\n",
    "        color='orange',\n",
    "        title='변수별 결측치 비율'\n",
    "):\n",
    "    \"\"\"\n",
    "    데이터프레임의 변수별 결측치 비율을 막대그래프로 시각화합니다.\n",
    "\n",
    "    Parameters\n",
    "    - df: pandas.DataFrame\n",
    "    - min_ratio: 표시할 최소 결측 비율(0~1). 예: 0.0(모두), 0.05(5% 이상만)\n",
    "    - figsize: Figure 크기 튜플\n",
    "    - color: 막대 색상\n",
    "    - title: 그래프 제목\n",
    "\n",
    "    Returns\n",
    "    - ax: matplotlib.axes.Axes (플롯의 Axes 객체)\n",
    "    \"\"\"\n",
    "    if df is None or len(df) == 0:\n",
    "        raise ValueError(\"빈 DataFrame 입니다.\")\n",
    "\n",
    "    missing = df.isnull().sum() / len(df)\n",
    "    missing = missing[missing >= min_ratio]\n",
    "\n",
    "    if missing.empty:\n",
    "        fig = plt.figure(figsize=figsize)\n",
    "        plt.title(title)\n",
    "        plt.text(0.5, 0.5, '표시할 결측치 비율이 없습니다.', ha='center', va='center')\n",
    "        plt.axis('off')\n",
    "        plt.show()\n",
    "        return None\n",
    "\n",
    "    missing = missing.sort_values()\n",
    "    fig = plt.figure(figsize=figsize)\n",
    "    ax = missing.plot.bar(color=color)\n",
    "    ax.set_title(title)\n",
    "    ax.set_ylabel('결측 비율')\n",
    "    ax.set_xlabel('변수')\n",
    "    ax.set_ylim(0, 1)\n",
    "    plt.tight_layout()\n",
    "    plt.show()\n",
    "    return ax\n"
   ],
   "id": "aa58a97abd256b37",
   "outputs": [],
   "execution_count": null
  },
  {
   "metadata": {},
   "cell_type": "code",
   "source": "plot_missing_ratio(house_select, min_ratio=0.0, figsize=(13, 2), color='orange', title='변수별 결측치 비율')",
   "id": "501102c0c165ed96",
   "outputs": [],
   "execution_count": null
  },
  {
   "metadata": {},
   "cell_type": "code",
   "source": "house_select.columns",
   "id": "93b69a7c4c282152",
   "outputs": [],
   "execution_count": null
  },
  {
   "metadata": {},
   "cell_type": "code",
   "source": "house_select.head()",
   "id": "886525ca9953da7d",
   "outputs": [],
   "execution_count": null
  },
  {
   "metadata": {},
   "cell_type": "code",
   "source": "house_select.to_csv('house_select.csv', index=False, encoding='utf-8')",
   "id": "a2dd706244d4da70",
   "outputs": [],
   "execution_count": null
  }
 ],
 "metadata": {
  "kernelspec": {
   "display_name": "Python 3",
   "language": "python",
   "name": "python3"
  },
  "language_info": {
   "codemirror_mode": {
    "name": "ipython",
    "version": 2
   },
   "file_extension": ".py",
   "mimetype": "text/x-python",
   "name": "python",
   "nbconvert_exporter": "python",
   "pygments_lexer": "ipython2",
   "version": "2.7.6"
  }
 },
 "nbformat": 4,
 "nbformat_minor": 5
}
