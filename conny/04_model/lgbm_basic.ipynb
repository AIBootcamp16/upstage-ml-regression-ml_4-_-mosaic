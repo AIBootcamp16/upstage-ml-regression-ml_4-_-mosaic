{
 "cells": [
  {
   "cell_type": "code",
   "id": "initial_id",
   "metadata": {
    "collapsed": true,
    "ExecuteTime": {
     "end_time": "2025-09-10T08:49:20.779540Z",
     "start_time": "2025-09-10T08:49:20.777072Z"
    }
   },
   "source": [
    "import pandas as pd\n",
    "import numpy as np\n",
    "from sklearn.model_selection import KFold\n",
    "from sklearn.metrics import mean_squared_error\n",
    "import lightgbm as lgb\n",
    "import tqdm as notebook_tqdm\n",
    "import warnings\n",
    "import seaborn as sns\n",
    "warnings.filterwarnings('ignore')"
   ],
   "outputs": [],
   "execution_count": 13
  },
  {
   "metadata": {
    "ExecuteTime": {
     "end_time": "2025-09-10T08:49:20.809155Z",
     "start_time": "2025-09-10T08:49:20.806783Z"
    }
   },
   "cell_type": "code",
   "source": [
    "# visualization\n",
    "import matplotlib.pyplot as plt\n",
    "import matplotlib.font_manager as fm\n",
    "\n",
    "# fe = fm.FontEntry(\n",
    "#     fname=r'/usr/share/fonts/truetype/nanum/NanumGothic.ttf',  # ttf 파일이 저장되어 있는 경로\n",
    "#     name='NanumBarunGothic')  # 이 폰트의 원하는 이름 설정\n",
    "# fm.fontManager.ttflist.insert(0, fe)  # Matplotlib에 폰트 추가\n",
    "# plt.rcParams.update({'font.size': 10, 'font.family': 'NanumBarunGothic'})  # 폰트 설정\n",
    "# plt.rc('font', family='NanumBarunGothic')\n",
    "fe = fm.FontEntry(\n",
    "    fname=r'/System/Library/Fonts/Supplemental/AppleGothic.ttf',  # ttf 파일이 저장되어 있는 경로\n",
    "    name='AppleGothic')  # 이 폰트의 원하는 이름 설정\n",
    "fm.fontManager.ttflist.insert(0, fe)  # Matplotlib에 폰트 추가\n",
    "plt.rcParams.update({'font.size': 10, 'font.family': 'AppleGothic'})  # 폰트 설정\n",
    "plt.rc('font', family='AppleGothic')"
   ],
   "id": "a9d52fd9f5103f70",
   "outputs": [],
   "execution_count": 14
  },
  {
   "metadata": {
    "ExecuteTime": {
     "end_time": "2025-09-10T08:49:21.251438Z",
     "start_time": "2025-09-10T08:49:20.811673Z"
    }
   },
   "cell_type": "code",
   "source": [
    "train = pd.read_csv('../03_outlier/train_processed.csv')\n",
    "test  = pd.read_csv('../03_outlier/test_processed.csv')"
   ],
   "id": "da46183d1c37822a",
   "outputs": [],
   "execution_count": 15
  },
  {
   "metadata": {
    "ExecuteTime": {
     "end_time": "2025-09-10T08:49:21.256675Z",
     "start_time": "2025-09-10T08:49:21.254313Z"
    }
   },
   "cell_type": "code",
   "source": "train.columns",
   "id": "e3097a7c89c38530",
   "outputs": [
    {
     "data": {
      "text/plain": [
       "Index(['본번', '부번', '아파트명', '전용면적', '계약년월', '계약일', '층', '건축년도', '도로명',\n",
       "       'k_단지분류_아파트_주상복합등등_', 'k_전화번호', 'k_팩스번호', 'k_세대타입_분양형태_', 'k_관리방식',\n",
       "       'k_복도유형', 'k_난방방식', 'k_전체동수', 'k_전체세대수', 'k_건설사_시공사_', 'k_시행사',\n",
       "       'k_사용검사일-사용승인일', 'k_연면적', 'k_주거전용면적', 'k_관리비부과면적', 'k_전용면적별세대현황_60㎡이하_',\n",
       "       'k_전용면적별세대현황_60㎡~85㎡이하_', 'k_85㎡~135㎡이하', 'k_수정일자', '경비비관리형태',\n",
       "       '세대전기계약방법', '청소비관리형태', 'is_test', '주소', '경도', '위도', '1_bus', '3_bus',\n",
       "       '5_bus', '10_bus', '1_school', '3_school', '5_school', '10_school',\n",
       "       'bus_access_score', 'sub_access_score', 'school_access_score', '1_sub',\n",
       "       '3_sub', '5_sub', '10_sub', '계약연도', '계약월', '구', '동', '아파트_최고층',\n",
       "       '층_최고층대비비율', '층구간_상대', '구_해당달_거래수', '동_해당달_거래수', '구_직전달까지누적거래수',\n",
       "       '동_직전달까지누적거래수', '동대구_해당달_비율', '동대구_직전누적_비율', '연식', '연식_bin', '강남여부',\n",
       "       '브랜드', 'area_bin_in_region', 'target_log_clip'],\n",
       "      dtype='object')"
      ]
     },
     "execution_count": 16,
     "metadata": {},
     "output_type": "execute_result"
    }
   ],
   "execution_count": 16
  },
  {
   "metadata": {
    "ExecuteTime": {
     "end_time": "2025-09-10T08:49:21.261373Z",
     "start_time": "2025-09-10T08:49:21.260046Z"
    }
   },
   "cell_type": "code",
   "source": "target_col = 'target_log_clip'",
   "id": "910aabbbda5e237f",
   "outputs": [],
   "execution_count": 17
  },
  {
   "metadata": {
    "ExecuteTime": {
     "end_time": "2025-09-10T08:49:21.280195Z",
     "start_time": "2025-09-10T08:49:21.266968Z"
    }
   },
   "cell_type": "code",
   "source": [
    "# 범주형 컬럼 자동 탐지 + 명시적 범주형 포함\n",
    "auto_cats = train.select_dtypes(include=['object', 'category']).columns.tolist()\n",
    "explicit_cats = ['연식_bin', '층구간_상대', '브랜드', '아파트명', '도로명', '주소', '구', '동', 'area_bin_in_region']\n",
    "cat_cols = [c for c in (set(auto_cats) | set(explicit_cats)) if c in train.columns]"
   ],
   "id": "669e73f11c59aded",
   "outputs": [],
   "execution_count": 18
  },
  {
   "metadata": {
    "ExecuteTime": {
     "end_time": "2025-09-10T08:49:21.449744Z",
     "start_time": "2025-09-10T08:49:21.282481Z"
    }
   },
   "cell_type": "code",
   "source": [
    "# Train/Test 합쳐 카테고리 정합\n",
    "if len(cat_cols) > 0:\n",
    "    concat = pd.concat([train[cat_cols], test[cat_cols]], axis=0, ignore_index=True)\n",
    "    for c in cat_cols:\n",
    "        concat[c] = concat[c].astype('category')\n",
    "    for c in cat_cols:\n",
    "        train[c] = pd.Categorical(train[c], categories=concat[c].cat.categories)\n",
    "        test[c]  = pd.Categorical(test[c],  categories=concat[c].cat.categories)"
   ],
   "id": "735adeef17803ba1",
   "outputs": [],
   "execution_count": 19
  },
  {
   "metadata": {
    "ExecuteTime": {
     "end_time": "2025-09-10T08:49:21.454005Z",
     "start_time": "2025-09-10T08:49:21.452541Z"
    }
   },
   "cell_type": "code",
   "source": [
    "# 피처/타깃 분리 (is_test는 정보량이 없으므로 제거)\n",
    "drop_cols = [target_col]\n",
    "if 'is_test' in train.columns:\n",
    "    drop_cols.append('is_test')"
   ],
   "id": "50948cf5b08eddeb",
   "outputs": [],
   "execution_count": 20
  },
  {
   "metadata": {
    "ExecuteTime": {
     "end_time": "2025-09-10T08:49:21.463757Z",
     "start_time": "2025-09-10T08:49:21.455998Z"
    }
   },
   "cell_type": "code",
   "source": [
    "X = train.drop(columns=drop_cols)\n",
    "y = train[target_col].astype(float)\n",
    "X_test = test.drop(columns=['is_test']) if 'is_test' in test.columns else test.copy()"
   ],
   "id": "6e87e6a323b588a9",
   "outputs": [],
   "execution_count": 21
  },
  {
   "metadata": {
    "ExecuteTime": {
     "end_time": "2025-09-10T08:49:21.467348Z",
     "start_time": "2025-09-10T08:49:21.465666Z"
    }
   },
   "cell_type": "code",
   "source": [
    "categorical_feature = cat_cols\n",
    "print(f\"[INFO] 사용 범주형 컬럼: {categorical_feature}\")\n",
    "print(f\"[INFO] X.shape={X.shape}, X_test.shape={X_test.shape}\")"
   ],
   "id": "17049493f2f412ff",
   "outputs": [
    {
     "name": "stdout",
     "output_type": "stream",
     "text": [
      "[INFO] 사용 범주형 컬럼: ['k_세대타입_분양형태_', '주소', '층구간_상대', 'k_수정일자', '동', 'k_팩스번호', '브랜드', 'k_단지분류_아파트_주상복합등등_', 'k_사용검사일-사용승인일', 'k_시행사', '연식_bin', '경비비관리형태', 'k_복도유형', '도로명', 'k_전화번호', '아파트명', '청소비관리형태', 'k_관리방식', 'area_bin_in_region', '세대전기계약방법', '구', 'k_난방방식', 'k_건설사_시공사_']\n",
      "[INFO] X.shape=(107534, 67), X_test.shape=(9272, 67)\n"
     ]
    }
   ],
   "execution_count": 22
  },
  {
   "metadata": {
    "ExecuteTime": {
     "end_time": "2025-09-10T08:49:21.476375Z",
     "start_time": "2025-09-10T08:49:21.474389Z"
    }
   },
   "cell_type": "code",
   "source": [
    "# K-Fold 설정\n",
    "n_splits = 5\n",
    "kf = KFold(n_splits=n_splits, shuffle=True, random_state=2023)\n",
    "\n",
    "# 베스트 폴드 단일 모델만 선택\n",
    "best_model = None\n",
    "best_fold = None\n",
    "best_fold_rmse = np.inf\n",
    "best_iteration = None\n",
    "\n",
    "# 충분히 큰 반복 + Early Stopping\n",
    "base_params = dict(\n",
    "    random_state=2023,\n",
    "    n_estimators=100000\n",
    ")\n",
    "\n",
    "oof_pred_log = np.zeros(len(X))\n",
    "fold_rmses = []"
   ],
   "id": "7f20ba340177e3e7",
   "outputs": [],
   "execution_count": 23
  },
  {
   "metadata": {
    "ExecuteTime": {
     "end_time": "2025-09-10T08:51:15.477711Z",
     "start_time": "2025-09-10T08:49:21.478209Z"
    }
   },
   "cell_type": "code",
   "source": [
    "for fold, (trn_idx, val_idx) in enumerate(kf.split(X, y), start=1):\n",
    "    print(f\"[KFold] Fold {fold}/{n_splits} 학습 중...\")\n",
    "    X_trn, X_val = X.iloc[trn_idx], X.iloc[val_idx]\n",
    "    y_trn, y_val = y.iloc[trn_idx], y.iloc[val_idx]\n",
    "\n",
    "    model = lgb.LGBMRegressor(**base_params)\n",
    "    model.fit(\n",
    "        X_trn, y_trn,\n",
    "        eval_set=[(X_val, y_val)],\n",
    "        eval_metric='rmse',\n",
    "        categorical_feature=categorical_feature,\n",
    "        callbacks=[lgb.early_stopping(stopping_rounds=50, verbose=False)]\n",
    "    )\n",
    "\n",
    "    val_pred_log = model.predict(X_val, num_iteration=model.best_iteration_)\n",
    "    oof_pred_log[val_idx] = val_pred_log\n",
    "\n",
    "    # 원스케일 RMSE\n",
    "    rmse = np.sqrt(mean_squared_error(np.expm1(y_val.values), np.expm1(val_pred_log)))\n",
    "    fold_rmses.append(rmse)\n",
    "    print(f\"[KFold] Fold {fold} RMSE(orig) = {rmse:,.5f}, best_iter = {model.best_iteration_}\")\n",
    "\n",
    "    # 베스트 폴드 갱신\n",
    "    if rmse < best_fold_rmse:\n",
    "        best_fold_rmse = rmse\n",
    "        best_fold = fold\n",
    "        best_model = model\n",
    "        best_iteration = model.best_iteration_"
   ],
   "id": "c8fcb27becce62f8",
   "outputs": [
    {
     "name": "stdout",
     "output_type": "stream",
     "text": [
      "[KFold] Fold 1/5 학습 중...\n",
      "[LightGBM] [Warning] Categorical features with more bins than the configured maximum bin number found.\n",
      "[LightGBM] [Warning] For categorical features, max_bin and max_bin_by_feature may be ignored with a large number of categories.\n",
      "[LightGBM] [Info] Auto-choosing row-wise multi-threading, the overhead of testing was 0.005798 seconds.\n",
      "You can set `force_row_wise=true` to remove the overhead.\n",
      "And if memory is not enough, you can set `force_col_wise=true`.\n",
      "[LightGBM] [Info] Total Bins 21815\n",
      "[LightGBM] [Info] Number of data points in the train set: 86027, number of used features: 67\n",
      "[LightGBM] [Info] Start training from score 10.906318\n",
      "[KFold] Fold 1 RMSE(orig) = 6,654.85081, best_iter = 2393\n",
      "[KFold] Fold 2/5 학습 중...\n",
      "[LightGBM] [Warning] Categorical features with more bins than the configured maximum bin number found.\n",
      "[LightGBM] [Warning] For categorical features, max_bin and max_bin_by_feature may be ignored with a large number of categories.\n",
      "[LightGBM] [Info] Auto-choosing row-wise multi-threading, the overhead of testing was 0.004811 seconds.\n",
      "You can set `force_row_wise=true` to remove the overhead.\n",
      "And if memory is not enough, you can set `force_col_wise=true`.\n",
      "[LightGBM] [Info] Total Bins 21734\n",
      "[LightGBM] [Info] Number of data points in the train set: 86027, number of used features: 67\n",
      "[LightGBM] [Info] Start training from score 10.908096\n",
      "[KFold] Fold 2 RMSE(orig) = 6,344.50802, best_iter = 2858\n",
      "[KFold] Fold 3/5 학습 중...\n",
      "[LightGBM] [Warning] Categorical features with more bins than the configured maximum bin number found.\n",
      "[LightGBM] [Warning] For categorical features, max_bin and max_bin_by_feature may be ignored with a large number of categories.\n",
      "[LightGBM] [Info] Auto-choosing row-wise multi-threading, the overhead of testing was 0.005123 seconds.\n",
      "You can set `force_row_wise=true` to remove the overhead.\n",
      "And if memory is not enough, you can set `force_col_wise=true`.\n",
      "[LightGBM] [Info] Total Bins 21780\n",
      "[LightGBM] [Info] Number of data points in the train set: 86027, number of used features: 67\n",
      "[LightGBM] [Info] Start training from score 10.907036\n",
      "[KFold] Fold 3 RMSE(orig) = 6,222.74908, best_iter = 2295\n",
      "[KFold] Fold 4/5 학습 중...\n",
      "[LightGBM] [Warning] Categorical features with more bins than the configured maximum bin number found.\n",
      "[LightGBM] [Warning] For categorical features, max_bin and max_bin_by_feature may be ignored with a large number of categories.\n",
      "[LightGBM] [Info] Auto-choosing row-wise multi-threading, the overhead of testing was 0.004929 seconds.\n",
      "You can set `force_row_wise=true` to remove the overhead.\n",
      "And if memory is not enough, you can set `force_col_wise=true`.\n",
      "[LightGBM] [Info] Total Bins 21788\n",
      "[LightGBM] [Info] Number of data points in the train set: 86027, number of used features: 67\n",
      "[LightGBM] [Info] Start training from score 10.906868\n",
      "[KFold] Fold 4 RMSE(orig) = 6,374.01742, best_iter = 2882\n",
      "[KFold] Fold 5/5 학습 중...\n",
      "[LightGBM] [Warning] Categorical features with more bins than the configured maximum bin number found.\n",
      "[LightGBM] [Warning] For categorical features, max_bin and max_bin_by_feature may be ignored with a large number of categories.\n",
      "[LightGBM] [Info] Auto-choosing row-wise multi-threading, the overhead of testing was 0.004796 seconds.\n",
      "You can set `force_row_wise=true` to remove the overhead.\n",
      "And if memory is not enough, you can set `force_col_wise=true`.\n",
      "[LightGBM] [Info] Total Bins 21790\n",
      "[LightGBM] [Info] Number of data points in the train set: 86028, number of used features: 67\n",
      "[LightGBM] [Info] Start training from score 10.906126\n",
      "[KFold] Fold 5 RMSE(orig) = 6,275.47498, best_iter = 3372\n"
     ]
    }
   ],
   "execution_count": 24
  },
  {
   "metadata": {
    "ExecuteTime": {
     "end_time": "2025-09-10T08:51:25.059188Z",
     "start_time": "2025-09-10T08:51:24.947480Z"
    }
   },
   "cell_type": "code",
   "source": [
    "# 교차검증 요약\n",
    "print(f\"[KFold] CV RMSE(orig): mean={np.mean(fold_rmses):,.5f}, std={np.std(fold_rmses):,.5f}\")\n",
    "print(f\"[KFold] Best fold = {best_fold}, RMSE(orig) = {best_fold_rmse:,.5f}, best_iter = {best_iteration}\")\n",
    "\n",
    "# 테스트 예측: 베스트 폴드 단일 모델만 사용\n",
    "preds_best_log = best_model.predict(X_test, num_iteration=best_iteration)\n",
    "preds_best = np.expm1(preds_best_log).astype(np.int64)"
   ],
   "id": "bba558567083cadf",
   "outputs": [
    {
     "name": "stdout",
     "output_type": "stream",
     "text": [
      "[KFold] CV RMSE(orig): mean=6,374.32006, std=149.88694\n",
      "[KFold] Best fold = 3, RMSE(orig) = 6,222.74908, best_iter = 2295\n"
     ]
    }
   ],
   "execution_count": 29
  },
  {
   "metadata": {
    "ExecuteTime": {
     "end_time": "2025-09-10T08:51:15.645377Z",
     "start_time": "2025-09-10T08:51:15.639271Z"
    }
   },
   "cell_type": "code",
   "source": [
    "# 저장\n",
    "sub_path = 'lgbm_kfold_basic_bestfold.csv'\n",
    "pd.DataFrame({'target': preds_best}).to_csv(sub_path, index=False)\n",
    "print(f\"[SAVE] {sub_path} 저장 완료\")"
   ],
   "id": "2fae744249e7707f",
   "outputs": [
    {
     "name": "stdout",
     "output_type": "stream",
     "text": [
      "[SAVE] lgbm_kfold_basic_bestfold.csv 저장 완료\n"
     ]
    }
   ],
   "execution_count": 26
  },
  {
   "metadata": {
    "ExecuteTime": {
     "end_time": "2025-09-10T08:51:15.652790Z",
     "start_time": "2025-09-10T08:51:15.650797Z"
    }
   },
   "cell_type": "code",
   "source": "preds_best",
   "id": "72291eeffb99629d",
   "outputs": [
    {
     "data": {
      "text/plain": [
       "array([158649, 190616, 245660, ...,  63172,  51938,  52267], shape=(9272,))"
      ]
     },
     "execution_count": 27,
     "metadata": {},
     "output_type": "execute_result"
    }
   ],
   "execution_count": 27
  },
  {
   "metadata": {
    "ExecuteTime": {
     "end_time": "2025-09-10T08:51:24.911977Z",
     "start_time": "2025-09-10T08:51:15.655408Z"
    }
   },
   "cell_type": "code",
   "source": [
    "# 위 feature importance를 시각화해봅니다.\n",
    "importances = pd.Series(best_model.feature_importances_, index=list(X.columns))\n",
    "importances = importances.sort_values(ascending=False)\n",
    "\n",
    "# 상위 50%만 선택\n",
    "top_n = max(1, int(np.ceil(len(importances) * 0.8)))\n",
    "importances = importances.iloc[:top_n]\n",
    "\n",
    "plt.figure(figsize=(10, 8))\n",
    "plt.title(\"Feature Importances (Top 50%)\")\n",
    "sns.barplot(x=importances, y=importances.index)\n",
    "plt.show()"
   ],
   "id": "391871c78a37bbf6",
   "outputs": [
    {
     "name": "stderr",
     "output_type": "stream",
     "text": [
      "Matplotlib is building the font cache; this may take a moment.\n",
      "findfont: Font family ['NanumBarunGothic'] not found. Falling back to DejaVu Sans.\n",
      "findfont: Font family 'NanumBarunGothic' not found.\n",
      "findfont: Font family 'NanumBarunGothic' not found.\n",
      "findfont: Font family 'NanumBarunGothic' not found.\n",
      "findfont: Font family 'NanumBarunGothic' not found.\n",
      "findfont: Font family 'NanumBarunGothic' not found.\n"
     ]
    },
    {
     "data": {
      "text/plain": [
       "<Figure size 1000x800 with 1 Axes>"
      ],
      "image/png": "[encoded data removed]"
     },
     "metadata": {},
     "output_type": "display_data",
     "jetTransient": {
      "display_id": null
     }
    }
   ],
   "execution_count": 28
  }
 ],
 "metadata": {
  "kernelspec": {
   "display_name": "Python 3",
   "language": "python",
   "name": "python3"
  },
  "language_info": {
   "codemirror_mode": {
    "name": "ipython",
    "version": 2
   },
   "file_extension": ".py",
   "mimetype": "text/x-python",
   "name": "python",
   "nbconvert_exporter": "python",
   "pygments_lexer": "ipython2",
   "version": "2.7.6"
  }
 },
 "nbformat": 4,
 "nbformat_minor": 5
}
