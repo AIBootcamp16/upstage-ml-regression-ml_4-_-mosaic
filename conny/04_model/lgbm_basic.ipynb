{
 "cells": [
  {
   "cell_type": "code",
   "id": "initial_id",
   "metadata": {
    "collapsed": true,
    "ExecuteTime": {
     "end_time": "2025-09-09T06:24:08.345160Z",
     "start_time": "2025-09-09T06:24:08.295294Z"
    }
   },
   "source": [
    "import pandas as pd\n",
    "import numpy as np\n",
    "from sklearn.model_selection import KFold\n",
    "from sklearn.metrics import mean_squared_error\n",
    "import lightgbm as lgb\n",
    "import tqdm as notebook_tqdm\n",
    "import warnings\n",
    "import seaborn as sns\n",
    "warnings.filterwarnings('ignore')"
   ],
   "outputs": [],
   "execution_count": 36
  },
  {
   "metadata": {
    "ExecuteTime": {
     "end_time": "2025-09-09T06:24:09.233625Z",
     "start_time": "2025-09-09T06:24:09.231298Z"
    }
   },
   "cell_type": "code",
   "source": [
    "# visualization\n",
    "import matplotlib.pyplot as plt\n",
    "import matplotlib.font_manager as fm\n",
    "\n",
    "fe = fm.FontEntry(\n",
    "    fname=r'/usr/share/fonts/truetype/nanum/NanumGothic.ttf',  # ttf 파일이 저장되어 있는 경로\n",
    "    name='NanumBarunGothic')  # 이 폰트의 원하는 이름 설정\n",
    "fm.fontManager.ttflist.insert(0, fe)  # Matplotlib에 폰트 추가\n",
    "plt.rcParams.update({'font.size': 10, 'font.family': 'NanumBarunGothic'})  # 폰트 설정\n",
    "plt.rc('font', family='NanumBarunGothic')"
   ],
   "id": "a9d52fd9f5103f70",
   "outputs": [],
   "execution_count": 37
  },
  {
   "metadata": {
    "ExecuteTime": {
     "end_time": "2025-09-09T06:00:00.140479Z",
     "start_time": "2025-09-09T05:59:56.418692Z"
    }
   },
   "cell_type": "code",
   "source": [
    "train = pd.read_csv('../03_outlier/train_processed.csv')\n",
    "test  = pd.read_csv('../03_outlier/test_processed.csv')"
   ],
   "id": "da46183d1c37822a",
   "outputs": [],
   "execution_count": 17
  },
  {
   "metadata": {
    "ExecuteTime": {
     "end_time": "2025-09-09T06:00:00.291110Z",
     "start_time": "2025-09-09T06:00:00.288631Z"
    }
   },
   "cell_type": "code",
   "source": "train.columns",
   "id": "e3097a7c89c38530",
   "outputs": [
    {
     "data": {
      "text/plain": [
       "Index(['본번', '부번', '아파트명', '전용면적', '계약년월', '계약일', '층', '건축년도', '도로명',\n",
       "       'is_test', '주소', '경도', '위도', '1_bus', '3_bus', '5_bus', '10_bus',\n",
       "       '1_sub', '3_sub', '5_sub', '10_sub', '1_school', '3_school', '5_school',\n",
       "       '10_school', '계약연도', '계약월', 'bus_access_score', 'sub_access_score',\n",
       "       'school_access_score', '구', '동', '아파트_최고층', '층_최고층대비비율', '층구간_상대',\n",
       "       '구_해당달_거래수', '동_해당달_거래수', '구_직전달까지누적거래수', '동_직전달까지누적거래수', '동대구_해당달_비율',\n",
       "       '동대구_직전누적_비율', '연식', '연식_bin', '강남여부', '브랜드', 'area_bin_in_region',\n",
       "       'target_log_clip'],\n",
       "      dtype='object')"
      ]
     },
     "execution_count": 18,
     "metadata": {},
     "output_type": "execute_result"
    }
   ],
   "execution_count": 18
  },
  {
   "metadata": {
    "ExecuteTime": {
     "end_time": "2025-09-09T06:00:00.365269Z",
     "start_time": "2025-09-09T06:00:00.363667Z"
    }
   },
   "cell_type": "code",
   "source": "target_col = 'target_log_clip'",
   "id": "910aabbbda5e237f",
   "outputs": [],
   "execution_count": 19
  },
  {
   "metadata": {
    "ExecuteTime": {
     "end_time": "2025-09-09T06:00:00.438410Z",
     "start_time": "2025-09-09T06:00:00.387539Z"
    }
   },
   "cell_type": "code",
   "source": [
    "# 범주형 컬럼 자동 탐지 + 명시적 범주형 포함\n",
    "auto_cats = train.select_dtypes(include=['object', 'category']).columns.tolist()\n",
    "explicit_cats = ['연식_bin', '층구간_상대', '브랜드', '아파트명', '도로명', '주소', '구', '동', 'area_bin_in_region']\n",
    "cat_cols = [c for c in (set(auto_cats) | set(explicit_cats)) if c in train.columns]"
   ],
   "id": "669e73f11c59aded",
   "outputs": [],
   "execution_count": 20
  },
  {
   "metadata": {
    "ExecuteTime": {
     "end_time": "2025-09-09T06:00:01.398440Z",
     "start_time": "2025-09-09T06:00:00.451632Z"
    }
   },
   "cell_type": "code",
   "source": [
    "# Train/Test 합쳐 카테고리 정합\n",
    "if len(cat_cols) > 0:\n",
    "    concat = pd.concat([train[cat_cols], test[cat_cols]], axis=0, ignore_index=True)\n",
    "    for c in cat_cols:\n",
    "        concat[c] = concat[c].astype('category')\n",
    "    for c in cat_cols:\n",
    "        train[c] = pd.Categorical(train[c], categories=concat[c].cat.categories)\n",
    "        test[c]  = pd.Categorical(test[c],  categories=concat[c].cat.categories)"
   ],
   "id": "735adeef17803ba1",
   "outputs": [],
   "execution_count": 21
  },
  {
   "metadata": {
    "ExecuteTime": {
     "end_time": "2025-09-09T06:00:01.514786Z",
     "start_time": "2025-09-09T06:00:01.512365Z"
    }
   },
   "cell_type": "code",
   "source": [
    "# 피처/타깃 분리 (is_test는 정보량이 없으므로 제거)\n",
    "drop_cols = [target_col]\n",
    "if 'is_test' in train.columns:\n",
    "    drop_cols.append('is_test')"
   ],
   "id": "50948cf5b08eddeb",
   "outputs": [],
   "execution_count": 22
  },
  {
   "metadata": {
    "ExecuteTime": {
     "end_time": "2025-09-09T06:00:01.588937Z",
     "start_time": "2025-09-09T06:00:01.537863Z"
    }
   },
   "cell_type": "code",
   "source": [
    "X = train.drop(columns=drop_cols)\n",
    "y = train[target_col].astype(float)\n",
    "X_test = test.drop(columns=['is_test']) if 'is_test' in test.columns else test.copy()"
   ],
   "id": "6e87e6a323b588a9",
   "outputs": [],
   "execution_count": 23
  },
  {
   "metadata": {
    "ExecuteTime": {
     "end_time": "2025-09-09T06:00:01.610705Z",
     "start_time": "2025-09-09T06:00:01.608022Z"
    }
   },
   "cell_type": "code",
   "source": [
    "categorical_feature = cat_cols\n",
    "print(f\"[INFO] 사용 범주형 컬럼: {categorical_feature}\")\n",
    "print(f\"[INFO] X.shape={X.shape}, X_test.shape={X_test.shape}\")"
   ],
   "id": "17049493f2f412ff",
   "outputs": [
    {
     "name": "stdout",
     "output_type": "stream",
     "text": [
      "[INFO] 사용 범주형 컬럼: ['동', '아파트명', '도로명', '구', '연식_bin', '층구간_상대', '브랜드', '주소', 'area_bin_in_region']\n",
      "[INFO] X.shape=(1116696, 45), X_test.shape=(9272, 45)\n"
     ]
    }
   ],
   "execution_count": 24
  },
  {
   "metadata": {
    "ExecuteTime": {
     "end_time": "2025-09-09T06:00:01.679945Z",
     "start_time": "2025-09-09T06:00:01.677399Z"
    }
   },
   "cell_type": "code",
   "source": [
    "# K-Fold 설정\n",
    "n_splits = 5\n",
    "kf = KFold(n_splits=n_splits, shuffle=True, random_state=2023)\n",
    "\n",
    "# 베스트 폴드 단일 모델만 선택\n",
    "best_model = None\n",
    "best_fold = None\n",
    "best_fold_rmse = np.inf\n",
    "best_iteration = None\n",
    "\n",
    "# 충분히 큰 반복 + Early Stopping\n",
    "base_params = dict(\n",
    "    random_state=2023,\n",
    "    n_estimators=100000\n",
    ")\n",
    "\n",
    "oof_pred_log = np.zeros(len(X))\n",
    "fold_rmses = []"
   ],
   "id": "7f20ba340177e3e7",
   "outputs": [],
   "execution_count": 25
  },
  {
   "metadata": {
    "ExecuteTime": {
     "end_time": "2025-09-09T06:10:35.903359Z",
     "start_time": "2025-09-09T06:00:01.704047Z"
    }
   },
   "cell_type": "code",
   "source": [
    "for fold, (trn_idx, val_idx) in enumerate(kf.split(X, y), start=1):\n",
    "    print(f\"[KFold] Fold {fold}/{n_splits} 학습 중...\")\n",
    "    X_trn, X_val = X.iloc[trn_idx], X.iloc[val_idx]\n",
    "    y_trn, y_val = y.iloc[trn_idx], y.iloc[val_idx]\n",
    "\n",
    "    model = lgb.LGBMRegressor(**base_params)\n",
    "    model.fit(\n",
    "        X_trn, y_trn,\n",
    "        eval_set=[(X_val, y_val)],\n",
    "        eval_metric='rmse',\n",
    "        categorical_feature=categorical_feature,\n",
    "        callbacks=[lgb.early_stopping(stopping_rounds=50, verbose=False)]\n",
    "    )\n",
    "\n",
    "    val_pred_log = model.predict(X_val, num_iteration=model.best_iteration_)\n",
    "    oof_pred_log[val_idx] = val_pred_log\n",
    "\n",
    "    # 원스케일 RMSE\n",
    "    rmse = np.sqrt(mean_squared_error(np.expm1(y_val.values), np.expm1(val_pred_log)))\n",
    "    fold_rmses.append(rmse)\n",
    "    print(f\"[KFold] Fold {fold} RMSE(orig) = {rmse:,.5f}, best_iter = {model.best_iteration_}\")\n",
    "\n",
    "    # 베스트 폴드 갱신\n",
    "    if rmse < best_fold_rmse:\n",
    "        best_fold_rmse = rmse\n",
    "        best_fold = fold\n",
    "        best_model = model\n",
    "        best_iteration = model.best_iteration_"
   ],
   "id": "c8fcb27becce62f8",
   "outputs": [
    {
     "name": "stdout",
     "output_type": "stream",
     "text": [
      "[KFold] Fold 1/5 학습 중...\n",
      "[LightGBM] [Warning] Categorical features with more bins than the configured maximum bin number found.\n",
      "[LightGBM] [Warning] For categorical features, max_bin and max_bin_by_feature may be ignored with a large number of categories.\n",
      "[LightGBM] [Info] Auto-choosing row-wise multi-threading, the overhead of testing was 0.032400 seconds.\n",
      "You can set `force_row_wise=true` to remove the overhead.\n",
      "And if memory is not enough, you can set `force_col_wise=true`.\n",
      "[LightGBM] [Info] Total Bins 23448\n",
      "[LightGBM] [Info] Number of data points in the train set: 893356, number of used features: 45\n",
      "[LightGBM] [Info] Start training from score 10.753615\n",
      "[KFold] Fold 1 RMSE(orig) = 5,468.96512, best_iter = 5434\n",
      "[KFold] Fold 2/5 학습 중...\n",
      "[LightGBM] [Warning] Categorical features with more bins than the configured maximum bin number found.\n",
      "[LightGBM] [Warning] For categorical features, max_bin and max_bin_by_feature may be ignored with a large number of categories.\n",
      "[LightGBM] [Info] Auto-choosing row-wise multi-threading, the overhead of testing was 0.031307 seconds.\n",
      "You can set `force_row_wise=true` to remove the overhead.\n",
      "And if memory is not enough, you can set `force_col_wise=true`.\n",
      "[LightGBM] [Info] Total Bins 23286\n",
      "[LightGBM] [Info] Number of data points in the train set: 893357, number of used features: 45\n",
      "[LightGBM] [Info] Start training from score 10.753945\n",
      "[KFold] Fold 2 RMSE(orig) = 5,258.30629, best_iter = 8064\n",
      "[KFold] Fold 3/5 학습 중...\n",
      "[LightGBM] [Warning] Categorical features with more bins than the configured maximum bin number found.\n",
      "[LightGBM] [Warning] For categorical features, max_bin and max_bin_by_feature may be ignored with a large number of categories.\n",
      "[LightGBM] [Info] Auto-choosing row-wise multi-threading, the overhead of testing was 0.026353 seconds.\n",
      "You can set `force_row_wise=true` to remove the overhead.\n",
      "And if memory is not enough, you can set `force_col_wise=true`.\n",
      "[LightGBM] [Info] Total Bins 23444\n",
      "[LightGBM] [Info] Number of data points in the train set: 893357, number of used features: 45\n",
      "[LightGBM] [Info] Start training from score 10.753126\n",
      "[KFold] Fold 3 RMSE(orig) = 5,522.06363, best_iter = 6801\n",
      "[KFold] Fold 4/5 학습 중...\n",
      "[LightGBM] [Warning] Categorical features with more bins than the configured maximum bin number found.\n",
      "[LightGBM] [Warning] For categorical features, max_bin and max_bin_by_feature may be ignored with a large number of categories.\n",
      "[LightGBM] [Info] Auto-choosing row-wise multi-threading, the overhead of testing was 0.025673 seconds.\n",
      "You can set `force_row_wise=true` to remove the overhead.\n",
      "And if memory is not enough, you can set `force_col_wise=true`.\n",
      "[LightGBM] [Info] Total Bins 23450\n",
      "[LightGBM] [Info] Number of data points in the train set: 893357, number of used features: 45\n",
      "[LightGBM] [Info] Start training from score 10.753823\n",
      "[KFold] Fold 4 RMSE(orig) = 5,393.14957, best_iter = 5648\n",
      "[KFold] Fold 5/5 학습 중...\n",
      "[LightGBM] [Warning] Categorical features with more bins than the configured maximum bin number found.\n",
      "[LightGBM] [Warning] For categorical features, max_bin and max_bin_by_feature may be ignored with a large number of categories.\n",
      "[LightGBM] [Info] Auto-choosing row-wise multi-threading, the overhead of testing was 0.024257 seconds.\n",
      "You can set `force_row_wise=true` to remove the overhead.\n",
      "And if memory is not enough, you can set `force_col_wise=true`.\n",
      "[LightGBM] [Info] Total Bins 23442\n",
      "[LightGBM] [Info] Number of data points in the train set: 893357, number of used features: 45\n",
      "[LightGBM] [Info] Start training from score 10.753518\n",
      "[KFold] Fold 5 RMSE(orig) = 5,421.78253, best_iter = 6155\n"
     ]
    }
   ],
   "execution_count": 26
  },
  {
   "metadata": {
    "ExecuteTime": {
     "end_time": "2025-09-09T06:20:22.388520Z",
     "start_time": "2025-09-09T06:20:21.154452Z"
    }
   },
   "cell_type": "code",
   "source": [
    "# 교차검증 요약\n",
    "print(f\"[KFold] CV RMSE(orig): mean={np.mean(fold_rmses):,.5f}, std={np.std(fold_rmses):,.5f}\")\n",
    "print(f\"[KFold] Best fold = {best_fold}, RMSE(orig) = {best_fold_rmse:,.5f}, best_iter = {best_iteration}\")\n",
    "\n",
    "# 테스트 예측: 베스트 폴드 단일 모델만 사용\n",
    "preds_best_log = best_model.predict(X_test, num_iteration=best_iteration)\n",
    "preds_best = np.expm1(preds_best_log).astype(np.int64)"
   ],
   "id": "bba558567083cadf",
   "outputs": [
    {
     "name": "stdout",
     "output_type": "stream",
     "text": [
      "[KFold] CV RMSE(orig): mean=5,412.85343, std=88.80110\n",
      "[KFold] Best fold = 2, RMSE(orig) = 5,258.30629, best_iter = 8064\n"
     ]
    }
   ],
   "execution_count": 32
  },
  {
   "metadata": {
    "ExecuteTime": {
     "end_time": "2025-09-09T06:20:25.629892Z",
     "start_time": "2025-09-09T06:20:25.622845Z"
    }
   },
   "cell_type": "code",
   "source": [
    "# 저장\n",
    "sub_path = 'lgbm_kfold_basic_bestfold.csv'\n",
    "pd.DataFrame({'target': preds_best}).to_csv(sub_path, index=False)\n",
    "print(f\"[SAVE] {sub_path} 저장 완료\")"
   ],
   "id": "2fae744249e7707f",
   "outputs": [
    {
     "name": "stdout",
     "output_type": "stream",
     "text": [
      "[SAVE] lgbm_kfold_basic_bestfold.csv 저장 완료\n"
     ]
    }
   ],
   "execution_count": 33
  },
  {
   "metadata": {
    "ExecuteTime": {
     "end_time": "2025-09-09T06:20:27.824006Z",
     "start_time": "2025-09-09T06:20:27.820813Z"
    }
   },
   "cell_type": "code",
   "source": "preds_best",
   "id": "72291eeffb99629d",
   "outputs": [
    {
     "data": {
      "text/plain": [
       "array([196819, 286715, 320290, ...,  84631,  70680,  68905])"
      ]
     },
     "execution_count": 34,
     "metadata": {},
     "output_type": "execute_result"
    }
   ],
   "execution_count": 34
  },
  {
   "metadata": {
    "ExecuteTime": {
     "end_time": "2025-09-09T06:24:48.009949Z",
     "start_time": "2025-09-09T06:24:47.787768Z"
    }
   },
   "cell_type": "code",
   "source": [
    "# 위 feature importance를 시각화해봅니다.\n",
    "importances = pd.Series(best_model.feature_importances_, index=list(X.columns))\n",
    "importances = importances.sort_values(ascending=False)\n",
    "\n",
    "# 상위 50%만 선택\n",
    "top_n = max(1, int(np.ceil(len(importances) * 0.8)))\n",
    "importances = importances.iloc[:top_n]\n",
    "\n",
    "plt.figure(figsize=(10, 8))\n",
    "plt.title(\"Feature Importances (Top 50%)\")\n",
    "sns.barplot(x=importances, y=importances.index)\n",
    "plt.show()"
   ],
   "id": "391871c78a37bbf6",
   "outputs": [
    {
     "data": {
      "text/plain": [
       "<Figure size 1000x800 with 1 Axes>"
      ],
      "image/png": "[encoded data removed]"
     },
     "metadata": {},
     "output_type": "display_data",
     "jetTransient": {
      "display_id": null
     }
    }
   ],
   "execution_count": 39
  }
 ],
 "metadata": {
  "kernelspec": {
   "display_name": "Python 3",
   "language": "python",
   "name": "python3"
  },
  "language_info": {
   "codemirror_mode": {
    "name": "ipython",
    "version": 2
   },
   "file_extension": ".py",
   "mimetype": "text/x-python",
   "name": "python",
   "nbconvert_exporter": "python",
   "pygments_lexer": "ipython2",
   "version": "2.7.6"
  }
 },
 "nbformat": 4,
 "nbformat_minor": 5
}
